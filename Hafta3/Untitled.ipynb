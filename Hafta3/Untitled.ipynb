{
 "cells": [
  {
   "cell_type": "markdown",
   "id": "a47739bc-3ba3-49c2-b326-cc2e4c8e2c3d",
   "metadata": {},
   "source": [
    "\n",
    "**Makine öğrenmesi**, bilgisayarın meydana gelen bir olay ile ilgili topladığı bilgi ve tecrübeleri\n",
    "öğrenebilmesi amacıyla matematiksel modellerin kullanılmasıdır. Makine öğrenmesinde temel\n",
    "amaç elde edilen veriler ile gelecekte oluşabilecek benzer olaylar hakkında kararlar verebilmek\n",
    "veya geçmişteki durumlar hakkında sonuç oluşturmaktır (Azure, 2021). Çok büyük miktarlardaki\n",
    "verilerin elle işlenip bir sonuca varılabilmesi oldukça zordur. Bu nedenle makine öğrenmesi\n",
    "algoritmaları kullanılarak bu işlem kolay ve kısa sürede gerçekleştirilebilir. Makine öğrenmesi,\n",
    "doğal dil işleme, nesne tanıma, arama motorları, robot hareket kontrolü, yüz tanıma gibi birçok\n",
    "uygulamada kullanılmaktadır.\n",
    "\n",
    "**Veri işleme aşamaları nelerdi?**\n",
    "\n",
    "İlk aşamada, akıllı cihazlardan veriler toplanarak işlenir. İşleme sürecinde uygun olmayan veriler veri\n",
    "setinden çıkarılarak veri bütünlüğü sağlanır. İkinci aşamada, veri setindeki veriler bir kısmı eğitim\n",
    "verisi diğer kısmı test verisi olarak ikiye ayrılır. Eğitim verileri makine öğrenmesindeki modelleri\n",
    "eğitmek için kullanılır. Üçüncü aşamada, modellerden elde edilen sonuçlar test verileri ile analiz\n",
    "edilerek makine öğrenmesi modelinin doğruluğu test edilir. Son aşamada ise, test verilerinden\n",
    "elde edilen sonuçlar değerlendirilir.  \n",
    "\n",
    "Makine öğrenmesi tekniklerinde sıklıkla naive-bayes algoritmaları, destek vektör makineleri, karar\n",
    "ağacı algoritmaları, k-en yakın komşu algoritmaları kullanılmaktadır.  \n",
    "\n",
    "![Yaygin makine ogrenimi algoritmalari](yaygin-makine-ogrenimi-algoritmalri.png)\n",
    "\n",
    "Tahminleme (regresyon) ve Kümeleme\n",
    "\n",
    "## Regresyon\n",
    "\n",
    "**Tanım:**\n",
    "Regresyon, bir bağımlı değişkenin diğer bağımsız değişkenlerle ilişkisini modelleme sürecidir. Yani, regresyon analizi, bir değişkenin diğer değişkenlerle nasıl değiştiğini anlamak için kullanılır.\n",
    "\n",
    "**Temel İlkeler:**\n",
    "- Regresyon analizi genellikle bir doğru veya eğri (regresyon çizgisi) kullanarak bağımlı değişkenin beklenen değerini tahmin eder.\n",
    "- En yaygın kullanılan regresyon türü, lineer regresyondur, ancak non-lineer regresyon yöntemleri de bulunmaktadır.\n",
    "\n",
    "**Örnek:**\n",
    "Bir öğrencinin sınav notunu etkileyen faktörleri anlamak istiyorsanız, sınav notunu öğrencinin çalışma saati, katılım durumu vb. bağımsız değişkenlere bağlı olarak modelleyebilirsiniz.\n",
    "\n",
    "## Kümeleme\n",
    "\n",
    "**Tanım:**\n",
    "Kümeleme, benzer özelliklere sahip veri noktalarını bir araya getirerek homojen gruplar (kümeler) oluşturma sürecidir. Yani, kümeleme analizi, veri setini belirli özelliklere göre gruplara ayırmak için kullanılır.\n",
    "\n",
    "**Temel İlkeler:**\n",
    "- Veri noktaları benzer özelliklere sahipse, aynı kümeye atanır.\n",
    "- Kümeleme, önceden etiketlenmiş veri olmadan yapılan bir tür öğrenme olarak bilinir.\n",
    "- İki ana türü vardır: hiyerarşik kümeleme (veri noktalarını hiyerarşik bir yapıda gruplar) ve k-ortalama kümeleme (belirli bir sayıda k kümesi oluşturulur).\n",
    "\n",
    "**Örnek:**\n",
    "Müşteri satın alma alışkanlıklarını analiz ederek, benzer alışkanlıklara sahip müşterileri aynı kümeye atabilir ve bu kümeler üzerinden pazarlama stratejileri geliştirebilirsiniz.\n",
    "\n",
    "Her iki kavram da veri madenciliği, istatistik ve makine öğrenmesi alanlarında yaygın olarak kullanılmaktadır. Regresyon, ilişkiyi modelleme ve tahmin yapma amacıyla kullanılırken, kümeleme benzer özelliklere sahip veri noktalarını gruplama ve anlam çıkarma amacıyla kullanılır.\n",
    "\n",
    "![Regresyon ve sınıflandırma](regresyon-sinniflandirma.png)\n",
    "\n",
    "\n",
    "## Bayes Öğrenme Tekniği\n",
    "\n",
    "Naive Bayes öğrenme tekniği temeli Bayes teoremine dayanır. Bayes Teoremi bir sonucun\n",
    "sebebini bulurken sonucun hangi olasılıkla hangi sebepten kaynaklandığını bulur. Ülkemizde en\n",
    "popüler alışveriş internet sitesinde akıllı cep telefonu satışını düşünelim. Online mağazada A ve\n",
    "B iki ayrı marka cep telefonu satılmaktadır. Edinilen tecrübe ve tutulan kayıtlardan cep telefonu\n",
    "ile ilgili bilgiler şu şekildedir:  \n",
    "\n",
    "1. Markalar; A ve B\n",
    "2. Günlük satış miktarı; A marka 200, B marka 160 adet\n",
    "3. İade edilen cep telefonu oranı; %5\n",
    "\n",
    "Bir gün için online mağazada satılan cep telefonlarından A marka olanların iade edilme olasılığını\n",
    "hesaplayalım. Toplam 360 adet cep telefonu, 200 adedi A marka satılıyor. Bu durumda, günlük 18\n",
    "adet cep telefon iade edilmektedir. İade edilen cep telefonların markalarına göre dağılımını eşit\n",
    "kabul edersek iade edilen cep telefonlarının 9 adeti A markasına aittir. O halde A marka cep\n",
    "telefonunun iade edilme olasılığı 9/200=%4,5’dur. Bu durumu özetleyen Bayes öğrenme formülü\n",
    "şöyledir: \n",
    "\n",
    "![Bayes Ornek](bayes-ornek.png)"
   ]
  },
  {
   "cell_type": "markdown",
   "id": "89c992ff-ce44-47a7-8d1a-3d1583314d1a",
   "metadata": {},
   "source": [
    "**Verilenler**  \n",
    "- İade edilen cep telefonlarından A nın alması olasılığı :18 iade edilen telefondan 9 tanesinin A olduğunu varsayarsak\n",
    "9/18 == 0.5  \n",
    "- İade edilen cep telefonu oranı %5 == 0.05\n",
    "- A telefonun satış olalısığı 200 / 360 == 0.5555555555555556\n"
   ]
  },
  {
   "cell_type": "markdown",
   "id": "90d1fe5d-7a9b-4942-b96d-16a140e01ffe",
   "metadata": {},
   "source": [
    "**Aşağıdaki araba tablosunu inceleyerek satışın zorluğunu tahmin edelim.**"
   ]
  },
  {
   "cell_type": "code",
   "execution_count": 1,
   "id": "e3a95e0a-fce1-4ec2-94ad-52264ec5056c",
   "metadata": {},
   "outputs": [
    {
     "data": {
      "text/html": [
       "<div>\n",
       "<style scoped>\n",
       "    .dataframe tbody tr th:only-of-type {\n",
       "        vertical-align: middle;\n",
       "    }\n",
       "\n",
       "    .dataframe tbody tr th {\n",
       "        vertical-align: top;\n",
       "    }\n",
       "\n",
       "    .dataframe thead th {\n",
       "        text-align: right;\n",
       "    }\n",
       "</style>\n",
       "<table border=\"1\" class=\"dataframe\">\n",
       "  <thead>\n",
       "    <tr style=\"text-align: right;\">\n",
       "      <th></th>\n",
       "      <th>fiyat</th>\n",
       "      <th>onarim</th>\n",
       "      <th>kapi sayisi</th>\n",
       "      <th>kisi sayisi</th>\n",
       "      <th>bagaj boyutu</th>\n",
       "      <th>Guvenlik</th>\n",
       "      <th>satis</th>\n",
       "    </tr>\n",
       "  </thead>\n",
       "  <tbody>\n",
       "    <tr>\n",
       "      <th>0</th>\n",
       "      <td>çok yüksek</td>\n",
       "      <td>çok yüksek</td>\n",
       "      <td>2</td>\n",
       "      <td>2</td>\n",
       "      <td>küçük</td>\n",
       "      <td>düþük</td>\n",
       "      <td>zor</td>\n",
       "    </tr>\n",
       "    <tr>\n",
       "      <th>1</th>\n",
       "      <td>çok yüksek</td>\n",
       "      <td>çok yüksek</td>\n",
       "      <td>2</td>\n",
       "      <td>2</td>\n",
       "      <td>küçük</td>\n",
       "      <td>orta</td>\n",
       "      <td>zor</td>\n",
       "    </tr>\n",
       "    <tr>\n",
       "      <th>2</th>\n",
       "      <td>çok yüksek</td>\n",
       "      <td>çok yüksek</td>\n",
       "      <td>2</td>\n",
       "      <td>2</td>\n",
       "      <td>küçük</td>\n",
       "      <td>yüksek</td>\n",
       "      <td>zor</td>\n",
       "    </tr>\n",
       "    <tr>\n",
       "      <th>3</th>\n",
       "      <td>çok yüksek</td>\n",
       "      <td>çok yüksek</td>\n",
       "      <td>2</td>\n",
       "      <td>2</td>\n",
       "      <td>orta</td>\n",
       "      <td>düþük</td>\n",
       "      <td>zor</td>\n",
       "    </tr>\n",
       "    <tr>\n",
       "      <th>4</th>\n",
       "      <td>çok yüksek</td>\n",
       "      <td>çok yüksek</td>\n",
       "      <td>2</td>\n",
       "      <td>2</td>\n",
       "      <td>orta</td>\n",
       "      <td>orta</td>\n",
       "      <td>zor</td>\n",
       "    </tr>\n",
       "    <tr>\n",
       "      <th>...</th>\n",
       "      <td>...</td>\n",
       "      <td>...</td>\n",
       "      <td>...</td>\n",
       "      <td>...</td>\n",
       "      <td>...</td>\n",
       "      <td>...</td>\n",
       "      <td>...</td>\n",
       "    </tr>\n",
       "    <tr>\n",
       "      <th>1723</th>\n",
       "      <td>düþük</td>\n",
       "      <td>düþük</td>\n",
       "      <td>5 den fazla</td>\n",
       "      <td>4 den fazla</td>\n",
       "      <td>orta</td>\n",
       "      <td>orta</td>\n",
       "      <td>kolay</td>\n",
       "    </tr>\n",
       "    <tr>\n",
       "      <th>1724</th>\n",
       "      <td>düþük</td>\n",
       "      <td>düþük</td>\n",
       "      <td>5 den fazla</td>\n",
       "      <td>4 den fazla</td>\n",
       "      <td>orta</td>\n",
       "      <td>yüksek</td>\n",
       "      <td>çok kolay</td>\n",
       "    </tr>\n",
       "    <tr>\n",
       "      <th>1725</th>\n",
       "      <td>düþük</td>\n",
       "      <td>düþük</td>\n",
       "      <td>5 den fazla</td>\n",
       "      <td>4 den fazla</td>\n",
       "      <td>büyük</td>\n",
       "      <td>düþük</td>\n",
       "      <td>zor</td>\n",
       "    </tr>\n",
       "    <tr>\n",
       "      <th>1726</th>\n",
       "      <td>düþük</td>\n",
       "      <td>düþük</td>\n",
       "      <td>5 den fazla</td>\n",
       "      <td>4 den fazla</td>\n",
       "      <td>büyük</td>\n",
       "      <td>orta</td>\n",
       "      <td>kolay</td>\n",
       "    </tr>\n",
       "    <tr>\n",
       "      <th>1727</th>\n",
       "      <td>düþük</td>\n",
       "      <td>düþük</td>\n",
       "      <td>5 den fazla</td>\n",
       "      <td>4 den fazla</td>\n",
       "      <td>büyük</td>\n",
       "      <td>yüksek</td>\n",
       "      <td>çok kolay</td>\n",
       "    </tr>\n",
       "  </tbody>\n",
       "</table>\n",
       "<p>1728 rows × 7 columns</p>\n",
       "</div>"
      ],
      "text/plain": [
       "           fiyat      onarim  kapi sayisi  kisi sayisi bagaj boyutu Guvenlik  \\\n",
       "0     çok yüksek  çok yüksek            2            2        küçük    düþük   \n",
       "1     çok yüksek  çok yüksek            2            2        küçük     orta   \n",
       "2     çok yüksek  çok yüksek            2            2        küçük   yüksek   \n",
       "3     çok yüksek  çok yüksek            2            2         orta    düþük   \n",
       "4     çok yüksek  çok yüksek            2            2         orta     orta   \n",
       "...          ...         ...          ...          ...          ...      ...   \n",
       "1723       düþük       düþük  5 den fazla  4 den fazla         orta     orta   \n",
       "1724       düþük       düþük  5 den fazla  4 den fazla         orta   yüksek   \n",
       "1725       düþük       düþük  5 den fazla  4 den fazla        büyük    düþük   \n",
       "1726       düþük       düþük  5 den fazla  4 den fazla        büyük     orta   \n",
       "1727       düþük       düþük  5 den fazla  4 den fazla        büyük   yüksek   \n",
       "\n",
       "         satis   \n",
       "0           zor  \n",
       "1           zor  \n",
       "2           zor  \n",
       "3           zor  \n",
       "4           zor  \n",
       "...         ...  \n",
       "1723      kolay  \n",
       "1724  çok kolay  \n",
       "1725        zor  \n",
       "1726      kolay  \n",
       "1727  çok kolay  \n",
       "\n",
       "[1728 rows x 7 columns]"
      ]
     },
     "execution_count": 1,
     "metadata": {},
     "output_type": "execute_result"
    }
   ],
   "source": [
    "import pandas as pd\n",
    "\n",
    "veri = pd.read_csv('car.csv',encoding='unicode_escape')\n",
    "veri_copy = veri.copy()\n",
    "veri"
   ]
  },
  {
   "cell_type": "code",
   "execution_count": 2,
   "id": "6544edf8-07a0-4cba-a2a2-5a492597b8db",
   "metadata": {},
   "outputs": [
    {
     "data": {
      "text/html": [
       "<style>#sk-container-id-1 {color: black;}#sk-container-id-1 pre{padding: 0;}#sk-container-id-1 div.sk-toggleable {background-color: white;}#sk-container-id-1 label.sk-toggleable__label {cursor: pointer;display: block;width: 100%;margin-bottom: 0;padding: 0.3em;box-sizing: border-box;text-align: center;}#sk-container-id-1 label.sk-toggleable__label-arrow:before {content: \"▸\";float: left;margin-right: 0.25em;color: #696969;}#sk-container-id-1 label.sk-toggleable__label-arrow:hover:before {color: black;}#sk-container-id-1 div.sk-estimator:hover label.sk-toggleable__label-arrow:before {color: black;}#sk-container-id-1 div.sk-toggleable__content {max-height: 0;max-width: 0;overflow: hidden;text-align: left;background-color: #f0f8ff;}#sk-container-id-1 div.sk-toggleable__content pre {margin: 0.2em;color: black;border-radius: 0.25em;background-color: #f0f8ff;}#sk-container-id-1 input.sk-toggleable__control:checked~div.sk-toggleable__content {max-height: 200px;max-width: 100%;overflow: auto;}#sk-container-id-1 input.sk-toggleable__control:checked~label.sk-toggleable__label-arrow:before {content: \"▾\";}#sk-container-id-1 div.sk-estimator input.sk-toggleable__control:checked~label.sk-toggleable__label {background-color: #d4ebff;}#sk-container-id-1 div.sk-label input.sk-toggleable__control:checked~label.sk-toggleable__label {background-color: #d4ebff;}#sk-container-id-1 input.sk-hidden--visually {border: 0;clip: rect(1px 1px 1px 1px);clip: rect(1px, 1px, 1px, 1px);height: 1px;margin: -1px;overflow: hidden;padding: 0;position: absolute;width: 1px;}#sk-container-id-1 div.sk-estimator {font-family: monospace;background-color: #f0f8ff;border: 1px dotted black;border-radius: 0.25em;box-sizing: border-box;margin-bottom: 0.5em;}#sk-container-id-1 div.sk-estimator:hover {background-color: #d4ebff;}#sk-container-id-1 div.sk-parallel-item::after {content: \"\";width: 100%;border-bottom: 1px solid gray;flex-grow: 1;}#sk-container-id-1 div.sk-label:hover label.sk-toggleable__label {background-color: #d4ebff;}#sk-container-id-1 div.sk-serial::before {content: \"\";position: absolute;border-left: 1px solid gray;box-sizing: border-box;top: 0;bottom: 0;left: 50%;z-index: 0;}#sk-container-id-1 div.sk-serial {display: flex;flex-direction: column;align-items: center;background-color: white;padding-right: 0.2em;padding-left: 0.2em;position: relative;}#sk-container-id-1 div.sk-item {position: relative;z-index: 1;}#sk-container-id-1 div.sk-parallel {display: flex;align-items: stretch;justify-content: center;background-color: white;position: relative;}#sk-container-id-1 div.sk-item::before, #sk-container-id-1 div.sk-parallel-item::before {content: \"\";position: absolute;border-left: 1px solid gray;box-sizing: border-box;top: 0;bottom: 0;left: 50%;z-index: -1;}#sk-container-id-1 div.sk-parallel-item {display: flex;flex-direction: column;z-index: 1;position: relative;background-color: white;}#sk-container-id-1 div.sk-parallel-item:first-child::after {align-self: flex-end;width: 50%;}#sk-container-id-1 div.sk-parallel-item:last-child::after {align-self: flex-start;width: 50%;}#sk-container-id-1 div.sk-parallel-item:only-child::after {width: 0;}#sk-container-id-1 div.sk-dashed-wrapped {border: 1px dashed gray;margin: 0 0.4em 0.5em 0.4em;box-sizing: border-box;padding-bottom: 0.4em;background-color: white;}#sk-container-id-1 div.sk-label label {font-family: monospace;font-weight: bold;display: inline-block;line-height: 1.2em;}#sk-container-id-1 div.sk-label-container {text-align: center;}#sk-container-id-1 div.sk-container {/* jupyter's `normalize.less` sets `[hidden] { display: none; }` but bootstrap.min.css set `[hidden] { display: none !important; }` so we also need the `!important` here to be able to override the default hidden behavior on the sphinx rendered scikit-learn.org. See: https://github.com/scikit-learn/scikit-learn/issues/21755 */display: inline-block !important;position: relative;}#sk-container-id-1 div.sk-text-repr-fallback {display: none;}</style><div id=\"sk-container-id-1\" class=\"sk-top-container\"><div class=\"sk-text-repr-fallback\"><pre>LabelEncoder()</pre><b>In a Jupyter environment, please rerun this cell to show the HTML representation or trust the notebook. <br />On GitHub, the HTML representation is unable to render, please try loading this page with nbviewer.org.</b></div><div class=\"sk-container\" hidden><div class=\"sk-item\"><div class=\"sk-estimator sk-toggleable\"><input class=\"sk-toggleable__control sk-hidden--visually\" id=\"sk-estimator-id-1\" type=\"checkbox\" checked><label for=\"sk-estimator-id-1\" class=\"sk-toggleable__label sk-toggleable__label-arrow\">LabelEncoder</label><div class=\"sk-toggleable__content\"><pre>LabelEncoder()</pre></div></div></div></div></div>"
      ],
      "text/plain": [
       "LabelEncoder()"
      ]
     },
     "execution_count": 2,
     "metadata": {},
     "output_type": "execute_result"
    }
   ],
   "source": [
    "from sklearn import preprocessing\n",
    "#Sozel veriler sayisal ifadelere donusturmekte kullanilir.\n",
    "etiket_sayisallastirma = preprocessing.LabelEncoder()\n",
    "etiket_sayisallastirma"
   ]
  },
  {
   "cell_type": "code",
   "execution_count": 3,
   "id": "bfa2ad16-981f-41a2-944c-a0faf94f4a0d",
   "metadata": {},
   "outputs": [
    {
     "data": {
      "text/plain": [
       "({0, 1, 2, 3}, {'kolay', 'normal', 'zor', 'çok kolay'})"
      ]
     },
     "execution_count": 3,
     "metadata": {},
     "output_type": "execute_result"
    }
   ],
   "source": [
    "set(etiket_sayisallastirma.fit_transform(veri_copy['satis '])),set(veri_copy['satis '])"
   ]
  },
  {
   "cell_type": "code",
   "execution_count": 20,
   "id": "41f20bc6-feef-4275-a90c-47e9559ca497",
   "metadata": {},
   "outputs": [
    {
     "data": {
      "text/plain": [
       "array([2, 2, 2, ..., 2, 0, 3])"
      ]
     },
     "execution_count": 20,
     "metadata": {},
     "output_type": "execute_result"
    }
   ],
   "source": [
    "etiket_sayisallastirma.fit_transform(veri_copy['satis '])"
   ]
  },
  {
   "cell_type": "markdown",
   "id": "6ed98a1a-e2a6-47f6-bb93-73b721146b58",
   "metadata": {},
   "source": [
    "```\n",
    " Etiket degerleri\n",
    "'kolay' = 0\n",
    "'normal' = 1\n",
    "'zor' = 2\n",
    "'çok kolay' = 3\n",
    "```"
   ]
  },
  {
   "cell_type": "code",
   "execution_count": 4,
   "id": "bd0c06c4-eda3-4422-8a86-f0e68dacce92",
   "metadata": {},
   "outputs": [
    {
     "data": {
      "text/plain": [
       "(0       3\n",
       " 1       3\n",
       " 2       3\n",
       " 3       3\n",
       " 4       3\n",
       "        ..\n",
       " 1723    0\n",
       " 1724    0\n",
       " 1725    0\n",
       " 1726    0\n",
       " 1727    0\n",
       " Name: fiyat, Length: 1728, dtype: int64,\n",
       " 0       çok yüksek\n",
       " 1       çok yüksek\n",
       " 2       çok yüksek\n",
       " 3       çok yüksek\n",
       " 4       çok yüksek\n",
       "            ...    \n",
       " 1723         düþük\n",
       " 1724         düþük\n",
       " 1725         düþük\n",
       " 1726         düþük\n",
       " 1727         düþük\n",
       " Name: fiyat, Length: 1728, dtype: object)"
      ]
     },
     "execution_count": 4,
     "metadata": {},
     "output_type": "execute_result"
    }
   ],
   "source": [
    "veri_copy['fiyat'] = etiket_sayisallastirma.fit_transform(veri_copy['fiyat'])\n",
    "veri_copy['fiyat'],veri['fiyat']"
   ]
  },
  {
   "cell_type": "code",
   "execution_count": 5,
   "id": "14f75896-7a9a-46ba-b8a6-89211cc740e9",
   "metadata": {},
   "outputs": [
    {
     "data": {
      "text/plain": [
       "(0       3\n",
       " 1       3\n",
       " 2       3\n",
       " 3       3\n",
       " 4       3\n",
       "        ..\n",
       " 1723    0\n",
       " 1724    0\n",
       " 1725    0\n",
       " 1726    0\n",
       " 1727    0\n",
       " Name: onarim, Length: 1728, dtype: int64,\n",
       " 0       çok yüksek\n",
       " 1       çok yüksek\n",
       " 2       çok yüksek\n",
       " 3       çok yüksek\n",
       " 4       çok yüksek\n",
       "            ...    \n",
       " 1723         düþük\n",
       " 1724         düþük\n",
       " 1725         düþük\n",
       " 1726         düþük\n",
       " 1727         düþük\n",
       " Name: onarim, Length: 1728, dtype: object)"
      ]
     },
     "execution_count": 5,
     "metadata": {},
     "output_type": "execute_result"
    }
   ],
   "source": [
    "veri_copy['onarim'] = etiket_sayisallastirma.fit_transform(veri_copy['onarim'])\n",
    "veri_copy['onarim'],veri['onarim']"
   ]
  },
  {
   "cell_type": "code",
   "execution_count": 6,
   "id": "580aad5b-4d7e-4afb-ba7a-4519a7111b4e",
   "metadata": {},
   "outputs": [],
   "source": [
    "veri_copy[\"kapi sayisi\"]=etiket_sayisallastirma.fit_transform(veri_copy[\"kapi sayisi\"])\n",
    "veri_copy[\"kisi sayisi\"]=etiket_sayisallastirma.fit_transform(veri_copy[\"kisi sayisi\"])\n",
    "veri_copy[\"bagaj boyutu\"]=etiket_sayisallastirma.fit_transform(veri_copy[\"bagaj boyutu\"])\n",
    "veri_copy[\"Guvenlik\"]=etiket_sayisallastirma.fit_transform(veri_copy[\"Guvenlik\"])\n",
    "veri_copy[\"satis \"]=etiket_sayisallastirma.fit_transform(veri_copy[\"satis \"])"
   ]
  },
  {
   "cell_type": "markdown",
   "id": "793f5761-0dde-4413-b3a4-10a81896eb4e",
   "metadata": {},
   "source": [
    "**Modelin eğitimi için giriş verileri hazırlanır. Burada giriş verilerimiz satış sutunu dışındaki sutunlardır.**"
   ]
  },
  {
   "cell_type": "code",
   "execution_count": 7,
   "id": "04d8bd6c-7cc6-44fa-8b17-0cc1d411adcc",
   "metadata": {},
   "outputs": [
    {
     "data": {
      "text/html": [
       "<div>\n",
       "<style scoped>\n",
       "    .dataframe tbody tr th:only-of-type {\n",
       "        vertical-align: middle;\n",
       "    }\n",
       "\n",
       "    .dataframe tbody tr th {\n",
       "        vertical-align: top;\n",
       "    }\n",
       "\n",
       "    .dataframe thead th {\n",
       "        text-align: right;\n",
       "    }\n",
       "</style>\n",
       "<table border=\"1\" class=\"dataframe\">\n",
       "  <thead>\n",
       "    <tr style=\"text-align: right;\">\n",
       "      <th></th>\n",
       "      <th>fiyat</th>\n",
       "      <th>onarim</th>\n",
       "      <th>kapi sayisi</th>\n",
       "      <th>kisi sayisi</th>\n",
       "      <th>bagaj boyutu</th>\n",
       "      <th>Guvenlik</th>\n",
       "      <th>satis</th>\n",
       "    </tr>\n",
       "  </thead>\n",
       "  <tbody>\n",
       "    <tr>\n",
       "      <th>0</th>\n",
       "      <td>3</td>\n",
       "      <td>3</td>\n",
       "      <td>0</td>\n",
       "      <td>0</td>\n",
       "      <td>1</td>\n",
       "      <td>0</td>\n",
       "      <td>2</td>\n",
       "    </tr>\n",
       "    <tr>\n",
       "      <th>1</th>\n",
       "      <td>3</td>\n",
       "      <td>3</td>\n",
       "      <td>0</td>\n",
       "      <td>0</td>\n",
       "      <td>1</td>\n",
       "      <td>1</td>\n",
       "      <td>2</td>\n",
       "    </tr>\n",
       "    <tr>\n",
       "      <th>2</th>\n",
       "      <td>3</td>\n",
       "      <td>3</td>\n",
       "      <td>0</td>\n",
       "      <td>0</td>\n",
       "      <td>1</td>\n",
       "      <td>2</td>\n",
       "      <td>2</td>\n",
       "    </tr>\n",
       "    <tr>\n",
       "      <th>3</th>\n",
       "      <td>3</td>\n",
       "      <td>3</td>\n",
       "      <td>0</td>\n",
       "      <td>0</td>\n",
       "      <td>2</td>\n",
       "      <td>0</td>\n",
       "      <td>2</td>\n",
       "    </tr>\n",
       "    <tr>\n",
       "      <th>4</th>\n",
       "      <td>3</td>\n",
       "      <td>3</td>\n",
       "      <td>0</td>\n",
       "      <td>0</td>\n",
       "      <td>2</td>\n",
       "      <td>1</td>\n",
       "      <td>2</td>\n",
       "    </tr>\n",
       "    <tr>\n",
       "      <th>...</th>\n",
       "      <td>...</td>\n",
       "      <td>...</td>\n",
       "      <td>...</td>\n",
       "      <td>...</td>\n",
       "      <td>...</td>\n",
       "      <td>...</td>\n",
       "      <td>...</td>\n",
       "    </tr>\n",
       "    <tr>\n",
       "      <th>1723</th>\n",
       "      <td>0</td>\n",
       "      <td>0</td>\n",
       "      <td>3</td>\n",
       "      <td>2</td>\n",
       "      <td>2</td>\n",
       "      <td>1</td>\n",
       "      <td>0</td>\n",
       "    </tr>\n",
       "    <tr>\n",
       "      <th>1724</th>\n",
       "      <td>0</td>\n",
       "      <td>0</td>\n",
       "      <td>3</td>\n",
       "      <td>2</td>\n",
       "      <td>2</td>\n",
       "      <td>2</td>\n",
       "      <td>3</td>\n",
       "    </tr>\n",
       "    <tr>\n",
       "      <th>1725</th>\n",
       "      <td>0</td>\n",
       "      <td>0</td>\n",
       "      <td>3</td>\n",
       "      <td>2</td>\n",
       "      <td>0</td>\n",
       "      <td>0</td>\n",
       "      <td>2</td>\n",
       "    </tr>\n",
       "    <tr>\n",
       "      <th>1726</th>\n",
       "      <td>0</td>\n",
       "      <td>0</td>\n",
       "      <td>3</td>\n",
       "      <td>2</td>\n",
       "      <td>0</td>\n",
       "      <td>1</td>\n",
       "      <td>0</td>\n",
       "    </tr>\n",
       "    <tr>\n",
       "      <th>1727</th>\n",
       "      <td>0</td>\n",
       "      <td>0</td>\n",
       "      <td>3</td>\n",
       "      <td>2</td>\n",
       "      <td>0</td>\n",
       "      <td>2</td>\n",
       "      <td>3</td>\n",
       "    </tr>\n",
       "  </tbody>\n",
       "</table>\n",
       "<p>1728 rows × 7 columns</p>\n",
       "</div>"
      ],
      "text/plain": [
       "      fiyat  onarim  kapi sayisi  kisi sayisi  bagaj boyutu  Guvenlik  satis \n",
       "0         3       3            0            0             1         0       2\n",
       "1         3       3            0            0             1         1       2\n",
       "2         3       3            0            0             1         2       2\n",
       "3         3       3            0            0             2         0       2\n",
       "4         3       3            0            0             2         1       2\n",
       "...     ...     ...          ...          ...           ...       ...     ...\n",
       "1723      0       0            3            2             2         1       0\n",
       "1724      0       0            3            2             2         2       3\n",
       "1725      0       0            3            2             0         0       2\n",
       "1726      0       0            3            2             0         1       0\n",
       "1727      0       0            3            2             0         2       3\n",
       "\n",
       "[1728 rows x 7 columns]"
      ]
     },
     "execution_count": 7,
     "metadata": {},
     "output_type": "execute_result"
    }
   ],
   "source": [
    "veri_copy"
   ]
  },
  {
   "cell_type": "code",
   "execution_count": 8,
   "id": "20981802-c5f5-4b49-8bca-8efa5be4e14b",
   "metadata": {},
   "outputs": [
    {
     "data": {
      "text/html": [
       "<div>\n",
       "<style scoped>\n",
       "    .dataframe tbody tr th:only-of-type {\n",
       "        vertical-align: middle;\n",
       "    }\n",
       "\n",
       "    .dataframe tbody tr th {\n",
       "        vertical-align: top;\n",
       "    }\n",
       "\n",
       "    .dataframe thead th {\n",
       "        text-align: right;\n",
       "    }\n",
       "</style>\n",
       "<table border=\"1\" class=\"dataframe\">\n",
       "  <thead>\n",
       "    <tr style=\"text-align: right;\">\n",
       "      <th></th>\n",
       "      <th>fiyat</th>\n",
       "      <th>onarim</th>\n",
       "      <th>kapi sayisi</th>\n",
       "      <th>kisi sayisi</th>\n",
       "      <th>bagaj boyutu</th>\n",
       "      <th>Guvenlik</th>\n",
       "    </tr>\n",
       "  </thead>\n",
       "  <tbody>\n",
       "    <tr>\n",
       "      <th>0</th>\n",
       "      <td>3</td>\n",
       "      <td>3</td>\n",
       "      <td>0</td>\n",
       "      <td>0</td>\n",
       "      <td>1</td>\n",
       "      <td>0</td>\n",
       "    </tr>\n",
       "    <tr>\n",
       "      <th>1</th>\n",
       "      <td>3</td>\n",
       "      <td>3</td>\n",
       "      <td>0</td>\n",
       "      <td>0</td>\n",
       "      <td>1</td>\n",
       "      <td>1</td>\n",
       "    </tr>\n",
       "    <tr>\n",
       "      <th>2</th>\n",
       "      <td>3</td>\n",
       "      <td>3</td>\n",
       "      <td>0</td>\n",
       "      <td>0</td>\n",
       "      <td>1</td>\n",
       "      <td>2</td>\n",
       "    </tr>\n",
       "    <tr>\n",
       "      <th>3</th>\n",
       "      <td>3</td>\n",
       "      <td>3</td>\n",
       "      <td>0</td>\n",
       "      <td>0</td>\n",
       "      <td>2</td>\n",
       "      <td>0</td>\n",
       "    </tr>\n",
       "    <tr>\n",
       "      <th>4</th>\n",
       "      <td>3</td>\n",
       "      <td>3</td>\n",
       "      <td>0</td>\n",
       "      <td>0</td>\n",
       "      <td>2</td>\n",
       "      <td>1</td>\n",
       "    </tr>\n",
       "    <tr>\n",
       "      <th>...</th>\n",
       "      <td>...</td>\n",
       "      <td>...</td>\n",
       "      <td>...</td>\n",
       "      <td>...</td>\n",
       "      <td>...</td>\n",
       "      <td>...</td>\n",
       "    </tr>\n",
       "    <tr>\n",
       "      <th>1723</th>\n",
       "      <td>0</td>\n",
       "      <td>0</td>\n",
       "      <td>3</td>\n",
       "      <td>2</td>\n",
       "      <td>2</td>\n",
       "      <td>1</td>\n",
       "    </tr>\n",
       "    <tr>\n",
       "      <th>1724</th>\n",
       "      <td>0</td>\n",
       "      <td>0</td>\n",
       "      <td>3</td>\n",
       "      <td>2</td>\n",
       "      <td>2</td>\n",
       "      <td>2</td>\n",
       "    </tr>\n",
       "    <tr>\n",
       "      <th>1725</th>\n",
       "      <td>0</td>\n",
       "      <td>0</td>\n",
       "      <td>3</td>\n",
       "      <td>2</td>\n",
       "      <td>0</td>\n",
       "      <td>0</td>\n",
       "    </tr>\n",
       "    <tr>\n",
       "      <th>1726</th>\n",
       "      <td>0</td>\n",
       "      <td>0</td>\n",
       "      <td>3</td>\n",
       "      <td>2</td>\n",
       "      <td>0</td>\n",
       "      <td>1</td>\n",
       "    </tr>\n",
       "    <tr>\n",
       "      <th>1727</th>\n",
       "      <td>0</td>\n",
       "      <td>0</td>\n",
       "      <td>3</td>\n",
       "      <td>2</td>\n",
       "      <td>0</td>\n",
       "      <td>2</td>\n",
       "    </tr>\n",
       "  </tbody>\n",
       "</table>\n",
       "<p>1728 rows × 6 columns</p>\n",
       "</div>"
      ],
      "text/plain": [
       "      fiyat  onarim  kapi sayisi  kisi sayisi  bagaj boyutu  Guvenlik\n",
       "0         3       3            0            0             1         0\n",
       "1         3       3            0            0             1         1\n",
       "2         3       3            0            0             1         2\n",
       "3         3       3            0            0             2         0\n",
       "4         3       3            0            0             2         1\n",
       "...     ...     ...          ...          ...           ...       ...\n",
       "1723      0       0            3            2             2         1\n",
       "1724      0       0            3            2             2         2\n",
       "1725      0       0            3            2             0         0\n",
       "1726      0       0            3            2             0         1\n",
       "1727      0       0            3            2             0         2\n",
       "\n",
       "[1728 rows x 6 columns]"
      ]
     },
     "execution_count": 8,
     "metadata": {},
     "output_type": "execute_result"
    }
   ],
   "source": [
    "giris_verileri = veri_copy.drop(['satis '],axis=1)\n",
    "giris_verileri"
   ]
  },
  {
   "cell_type": "code",
   "execution_count": 9,
   "id": "47d25ea2-35f7-4fe4-a498-21570471d430",
   "metadata": {},
   "outputs": [
    {
     "data": {
      "text/plain": [
       "array([[3, 3, 0, 0, 1, 0],\n",
       "       [3, 3, 0, 0, 1, 1],\n",
       "       [3, 3, 0, 0, 1, 2],\n",
       "       ...,\n",
       "       [0, 0, 3, 2, 0, 0],\n",
       "       [0, 0, 3, 2, 0, 1],\n",
       "       [0, 0, 3, 2, 0, 2]])"
      ]
     },
     "execution_count": 9,
     "metadata": {},
     "output_type": "execute_result"
    }
   ],
   "source": [
    "import numpy as np\n",
    "giris_verileri = np.array(giris_verileri)\n",
    "giris_verileri"
   ]
  },
  {
   "cell_type": "code",
   "execution_count": 10,
   "id": "4e7156bd-dee5-4330-b53c-436cef20af35",
   "metadata": {},
   "outputs": [
    {
     "data": {
      "text/plain": [
       "0       2\n",
       "1       2\n",
       "2       2\n",
       "3       2\n",
       "4       2\n",
       "       ..\n",
       "1723    0\n",
       "1724    3\n",
       "1725    2\n",
       "1726    0\n",
       "1727    3\n",
       "Name: satis , Length: 1728, dtype: int64"
      ]
     },
     "execution_count": 10,
     "metadata": {},
     "output_type": "execute_result"
    }
   ],
   "source": [
    "cikis_verileri = veri_copy['satis ']\n",
    "cikis_verileri"
   ]
  },
  {
   "cell_type": "code",
   "execution_count": 11,
   "id": "8e62342a-272c-4562-8065-1c3fa7a9309e",
   "metadata": {},
   "outputs": [
    {
     "data": {
      "text/plain": [
       "array([2, 2, 2, ..., 2, 0, 3])"
      ]
     },
     "execution_count": 11,
     "metadata": {},
     "output_type": "execute_result"
    }
   ],
   "source": [
    "cikis_verileri = np.array(cikis_verileri)\n",
    "cikis_verileri"
   ]
  },
  {
   "cell_type": "code",
   "execution_count": 12,
   "id": "9fc1535f-88c3-45d0-9cb4-76332f1ca704",
   "metadata": {},
   "outputs": [],
   "source": [
    "from sklearn.model_selection import train_test_split\n",
    "egitim_verisi, test_verisi, egitim_satis, test_satis = train_test_split(giris_verileri, cikis_verileri,test_size=0.20,random_state=0)"
   ]
  },
  {
   "cell_type": "code",
   "execution_count": 13,
   "id": "db24a15f-db43-49a9-bc42-18cb5273764d",
   "metadata": {},
   "outputs": [
    {
     "data": {
      "text/plain": [
       "(1382, 1382, 346, 346)"
      ]
     },
     "execution_count": 13,
     "metadata": {},
     "output_type": "execute_result"
    }
   ],
   "source": [
    "len(egitim_verisi),len(egitim_satis) , len(test_verisi),len(test_satis)"
   ]
  },
  {
   "cell_type": "code",
   "execution_count": 14,
   "id": "792dfbd0-1519-4362-95d1-753b5e014d77",
   "metadata": {},
   "outputs": [],
   "source": [
    "from sklearn.naive_bayes import CategoricalNB\n",
    "\n",
    "model = CategoricalNB()"
   ]
  },
  {
   "cell_type": "code",
   "execution_count": 15,
   "id": "e9620297-e96b-4e52-a90e-fe0ce1f1e79c",
   "metadata": {},
   "outputs": [
    {
     "data": {
      "text/html": [
       "<style>#sk-container-id-2 {color: black;}#sk-container-id-2 pre{padding: 0;}#sk-container-id-2 div.sk-toggleable {background-color: white;}#sk-container-id-2 label.sk-toggleable__label {cursor: pointer;display: block;width: 100%;margin-bottom: 0;padding: 0.3em;box-sizing: border-box;text-align: center;}#sk-container-id-2 label.sk-toggleable__label-arrow:before {content: \"▸\";float: left;margin-right: 0.25em;color: #696969;}#sk-container-id-2 label.sk-toggleable__label-arrow:hover:before {color: black;}#sk-container-id-2 div.sk-estimator:hover label.sk-toggleable__label-arrow:before {color: black;}#sk-container-id-2 div.sk-toggleable__content {max-height: 0;max-width: 0;overflow: hidden;text-align: left;background-color: #f0f8ff;}#sk-container-id-2 div.sk-toggleable__content pre {margin: 0.2em;color: black;border-radius: 0.25em;background-color: #f0f8ff;}#sk-container-id-2 input.sk-toggleable__control:checked~div.sk-toggleable__content {max-height: 200px;max-width: 100%;overflow: auto;}#sk-container-id-2 input.sk-toggleable__control:checked~label.sk-toggleable__label-arrow:before {content: \"▾\";}#sk-container-id-2 div.sk-estimator input.sk-toggleable__control:checked~label.sk-toggleable__label {background-color: #d4ebff;}#sk-container-id-2 div.sk-label input.sk-toggleable__control:checked~label.sk-toggleable__label {background-color: #d4ebff;}#sk-container-id-2 input.sk-hidden--visually {border: 0;clip: rect(1px 1px 1px 1px);clip: rect(1px, 1px, 1px, 1px);height: 1px;margin: -1px;overflow: hidden;padding: 0;position: absolute;width: 1px;}#sk-container-id-2 div.sk-estimator {font-family: monospace;background-color: #f0f8ff;border: 1px dotted black;border-radius: 0.25em;box-sizing: border-box;margin-bottom: 0.5em;}#sk-container-id-2 div.sk-estimator:hover {background-color: #d4ebff;}#sk-container-id-2 div.sk-parallel-item::after {content: \"\";width: 100%;border-bottom: 1px solid gray;flex-grow: 1;}#sk-container-id-2 div.sk-label:hover label.sk-toggleable__label {background-color: #d4ebff;}#sk-container-id-2 div.sk-serial::before {content: \"\";position: absolute;border-left: 1px solid gray;box-sizing: border-box;top: 0;bottom: 0;left: 50%;z-index: 0;}#sk-container-id-2 div.sk-serial {display: flex;flex-direction: column;align-items: center;background-color: white;padding-right: 0.2em;padding-left: 0.2em;position: relative;}#sk-container-id-2 div.sk-item {position: relative;z-index: 1;}#sk-container-id-2 div.sk-parallel {display: flex;align-items: stretch;justify-content: center;background-color: white;position: relative;}#sk-container-id-2 div.sk-item::before, #sk-container-id-2 div.sk-parallel-item::before {content: \"\";position: absolute;border-left: 1px solid gray;box-sizing: border-box;top: 0;bottom: 0;left: 50%;z-index: -1;}#sk-container-id-2 div.sk-parallel-item {display: flex;flex-direction: column;z-index: 1;position: relative;background-color: white;}#sk-container-id-2 div.sk-parallel-item:first-child::after {align-self: flex-end;width: 50%;}#sk-container-id-2 div.sk-parallel-item:last-child::after {align-self: flex-start;width: 50%;}#sk-container-id-2 div.sk-parallel-item:only-child::after {width: 0;}#sk-container-id-2 div.sk-dashed-wrapped {border: 1px dashed gray;margin: 0 0.4em 0.5em 0.4em;box-sizing: border-box;padding-bottom: 0.4em;background-color: white;}#sk-container-id-2 div.sk-label label {font-family: monospace;font-weight: bold;display: inline-block;line-height: 1.2em;}#sk-container-id-2 div.sk-label-container {text-align: center;}#sk-container-id-2 div.sk-container {/* jupyter's `normalize.less` sets `[hidden] { display: none; }` but bootstrap.min.css set `[hidden] { display: none !important; }` so we also need the `!important` here to be able to override the default hidden behavior on the sphinx rendered scikit-learn.org. See: https://github.com/scikit-learn/scikit-learn/issues/21755 */display: inline-block !important;position: relative;}#sk-container-id-2 div.sk-text-repr-fallback {display: none;}</style><div id=\"sk-container-id-2\" class=\"sk-top-container\"><div class=\"sk-text-repr-fallback\"><pre>CategoricalNB()</pre><b>In a Jupyter environment, please rerun this cell to show the HTML representation or trust the notebook. <br />On GitHub, the HTML representation is unable to render, please try loading this page with nbviewer.org.</b></div><div class=\"sk-container\" hidden><div class=\"sk-item\"><div class=\"sk-estimator sk-toggleable\"><input class=\"sk-toggleable__control sk-hidden--visually\" id=\"sk-estimator-id-2\" type=\"checkbox\" checked><label for=\"sk-estimator-id-2\" class=\"sk-toggleable__label sk-toggleable__label-arrow\">CategoricalNB</label><div class=\"sk-toggleable__content\"><pre>CategoricalNB()</pre></div></div></div></div></div>"
      ],
      "text/plain": [
       "CategoricalNB()"
      ]
     },
     "execution_count": 15,
     "metadata": {},
     "output_type": "execute_result"
    }
   ],
   "source": [
    "model.fit(egitim_verisi,egitim_satis)"
   ]
  },
  {
   "cell_type": "code",
   "execution_count": 16,
   "id": "3508e609-addd-463a-a7a7-9fd63890524e",
   "metadata": {},
   "outputs": [
    {
     "data": {
      "text/plain": [
       "array([2, 2, 2, 2, 2, 3, 2, 1, 1, 1, 2, 2, 0, 2, 2, 2, 2, 2, 1, 2, 1, 1,\n",
       "       0, 2, 2, 2, 2, 2, 2, 2, 1, 1, 2, 1, 1, 2, 2, 2, 2, 2, 2, 2, 2, 2,\n",
       "       3, 2, 2, 1, 2, 2, 2, 2, 2, 2, 2, 2, 2, 2, 2, 2, 1, 2, 2, 1, 1, 2,\n",
       "       2, 2, 2, 2, 2, 2, 1, 2, 1, 1, 2, 2, 1, 2, 1, 1, 2, 2, 1, 2, 2, 1,\n",
       "       2, 2, 2, 1, 2, 2, 2, 3, 2, 1, 1, 2, 2, 2, 1, 2, 3, 1, 1, 1, 2, 2,\n",
       "       2, 2, 2, 1, 2, 1, 1, 2, 2, 2, 2, 2, 1, 1, 2, 2, 2, 1, 0, 2, 2, 2,\n",
       "       1, 2, 1, 2, 2, 2, 2, 2, 2, 2, 2, 2, 2, 2, 1, 2, 2, 1, 1, 1, 2, 2,\n",
       "       2, 1, 2, 2, 2, 2, 1, 2, 2, 2, 1, 2, 2, 2, 2, 2, 2, 2, 2, 2, 1, 2,\n",
       "       2, 2, 2, 2, 2, 1, 2, 1, 1, 2, 1, 2, 2, 2, 2, 2, 2, 2, 2, 2, 2, 1,\n",
       "       2, 2, 2, 2, 1, 2, 2, 2, 2, 2, 2, 2, 2, 2, 2, 2, 2, 2, 2, 1, 2, 2,\n",
       "       2, 2, 2, 3, 2, 2, 2, 1, 2, 2, 2, 2, 2, 2, 2, 2, 1, 2, 2, 2, 2, 2,\n",
       "       2, 2, 1, 2, 1, 2, 2, 2, 2, 2, 1, 1, 1, 1, 2, 2, 2, 2, 1, 2, 2, 1,\n",
       "       2, 2, 1, 2, 1, 2, 2, 2, 2, 2, 2, 2, 2, 2, 1, 2, 2, 2, 2, 2, 2, 1,\n",
       "       2, 1, 1, 2, 2, 2, 2, 2, 2, 2, 2, 2, 2, 1, 2, 1, 1, 0, 1, 2, 1, 2,\n",
       "       2, 2, 0, 2, 2, 2, 1, 2, 2, 2, 2, 1, 2, 2, 1, 2, 2, 1, 1, 2, 2, 2,\n",
       "       1, 2, 1, 2, 1, 2, 2, 2, 3, 2, 2, 1, 2, 2, 2, 2])"
      ]
     },
     "execution_count": 16,
     "metadata": {},
     "output_type": "execute_result"
    }
   ],
   "source": [
    "satis_tahmin = model.predict(test_verisi)\n",
    "satis_tahmin"
   ]
  },
  {
   "cell_type": "code",
   "execution_count": 17,
   "id": "13c44cfe-aac4-40ce-b2ea-2f39507fc5bd",
   "metadata": {},
   "outputs": [
    {
     "data": {
      "text/plain": [
       "array([2, 2, 2, 2, 2, 0, 2, 1, 1, 2, 2, 2, 1, 2, 2, 1, 2, 2, 1, 2, 0, 1,\n",
       "       1, 2, 2, 2, 2, 2, 2, 2, 0, 1, 2, 1, 0, 2, 2, 2, 2, 2, 2, 2, 2, 2,\n",
       "       3, 2, 2, 1, 2, 2, 2, 2, 2, 2, 2, 2, 2, 2, 2, 1, 1, 2, 2, 2, 2, 1,\n",
       "       2, 2, 2, 2, 2, 1, 1, 1, 1, 1, 2, 1, 1, 2, 1, 1, 1, 2, 2, 2, 2, 0,\n",
       "       2, 2, 2, 1, 2, 2, 2, 3, 2, 1, 1, 2, 2, 2, 1, 2, 3, 1, 2, 1, 2, 2,\n",
       "       2, 2, 2, 1, 2, 0, 1, 2, 2, 2, 2, 2, 3, 2, 2, 2, 2, 1, 0, 2, 2, 2,\n",
       "       1, 2, 2, 2, 2, 2, 2, 2, 2, 2, 2, 1, 2, 2, 1, 2, 1, 1, 1, 1, 2, 2,\n",
       "       2, 1, 2, 2, 2, 2, 1, 2, 2, 2, 1, 2, 2, 2, 2, 2, 2, 2, 2, 2, 1, 2,\n",
       "       2, 2, 2, 2, 1, 1, 1, 2, 1, 2, 0, 2, 2, 2, 2, 1, 2, 2, 2, 1, 2, 0,\n",
       "       2, 2, 2, 2, 1, 2, 2, 2, 2, 2, 2, 2, 2, 1, 2, 2, 2, 2, 2, 1, 2, 2,\n",
       "       2, 1, 2, 3, 2, 2, 2, 3, 2, 2, 2, 2, 1, 2, 2, 2, 2, 2, 2, 2, 2, 2,\n",
       "       2, 2, 0, 2, 1, 2, 2, 2, 2, 2, 0, 1, 1, 1, 1, 2, 2, 2, 1, 2, 2, 1,\n",
       "       2, 2, 3, 2, 1, 2, 2, 2, 1, 2, 1, 2, 2, 2, 2, 2, 2, 2, 1, 2, 2, 1,\n",
       "       2, 3, 0, 2, 2, 2, 2, 2, 2, 2, 2, 2, 2, 1, 2, 1, 1, 0, 0, 2, 1, 2,\n",
       "       1, 2, 0, 1, 2, 2, 2, 2, 2, 2, 2, 1, 2, 2, 1, 2, 1, 1, 2, 2, 2, 2,\n",
       "       1, 2, 0, 2, 0, 2, 2, 2, 3, 2, 2, 3, 2, 1, 2, 1])"
      ]
     },
     "execution_count": 17,
     "metadata": {},
     "output_type": "execute_result"
    }
   ],
   "source": [
    "test_satis"
   ]
  },
  {
   "cell_type": "code",
   "execution_count": 24,
   "id": "9f55befe-6928-4d70-aa2b-8ed0d6e4ce72",
   "metadata": {},
   "outputs": [
    {
     "data": {
      "text/plain": [
       "<Axes: >"
      ]
     },
     "execution_count": 24,
     "metadata": {},
     "output_type": "execute_result"
    },
    {
     "data": {
      "image/png": "[encoded data removed]",
      "text/plain": [
       "<Figure size 1000x600 with 2 Axes>"
      ]
     },
     "metadata": {},
     "output_type": "display_data"
    }
   ],
   "source": [
    "\n",
    "from sklearn.metrics import confusion_matrix\n",
    "import seaborn as sns\n",
    "import matplotlib.pyplot as plt\n",
    "cm= confusion_matrix(test_satis,satis_tahmin)\n",
    "index = ['Kolay','Normal','Zor','Çok kolay'] \n",
    "columns = ['Kolay','Normal','Zor','Çok kolay'] \n",
    "cm_df = pd.DataFrame(cm,columns,index)                      \n",
    "plt.figure(figsize=(10,6))  \n",
    "sns.heatmap(cm_df, annot=True,fmt=\"d\")"
   ]
  },
  {
   "cell_type": "code",
   "execution_count": 27,
   "id": "f801043e-690a-4d7c-9cb5-05ce786e4d69",
   "metadata": {},
   "outputs": [
    {
     "name": "stdout",
     "output_type": "stream",
     "text": [
      "Modelin Doğruluğu: 0.8323699421965318\n"
     ]
    }
   ],
   "source": [
    "\n",
    "from sklearn import metrics\n",
    "print(\"Modelin Doğruluğu:\",metrics.accuracy_score(test_satis, satis_tahmin))\n",
    "\n"
   ]
  }
 ],
 "metadata": {
  "kernelspec": {
   "display_name": "Python 3 (ipykernel)",
   "language": "python",
   "name": "python3"
  },
  "language_info": {
   "codemirror_mode": {
    "name": "ipython",
    "version": 3
   },
   "file_extension": ".py",
   "mimetype": "text/x-python",
   "name": "python",
   "nbconvert_exporter": "python",
   "pygments_lexer": "ipython3",
   "version": "3.11.6"
  }
 },
 "nbformat": 4,
 "nbformat_minor": 5
}
