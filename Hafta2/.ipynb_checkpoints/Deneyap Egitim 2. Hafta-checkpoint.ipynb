{
 "cells": [
  {
   "cell_type": "markdown",
   "id": "a5b15c7f-12f6-4e64-bb31-a336f87e92d6",
   "metadata": {},
   "source": [
    "# Yapay Zekada Veri Modelleme\n",
    "\n",
    "Yapay zekâda problemin modellemesinde kullanılan birçok otomatik karar verme mekanizması\n",
    "vardır. Yapay zekâ modelleri ile veri girişi sağlandığında uzman bir kişinin vereceği kararı\n",
    "\"eğitilmiş\" matematiksel algoritmalar yapar. Ayrıca yapay zekâ modelleri karar sürecinin\n",
    "yorumlanmasına yardımcı olurlar. Yapay zekâ modelleri, sistemin en doğru karar vermesi veya\n",
    "maliyeti en aza indirmesi için büyük miktarda veriyi işlemektedir. Farklı ortamlardan gelen verileri\n",
    "analiz eden yapay zekâ modeli tüm verileri gözden geçirerek uzmanlardan oluşan bir ekibin\n",
    "yapacağı belirli bir karar sürecini tek başına gerçekleştirir. Şekil 1.2’de gösterildiği gibi yapay zekâ\n",
    "modellemesi veri akışı şöyledir:"
   ]
  },
  {
   "cell_type": "markdown",
   "id": "86e2c96f-36b3-4d2d-86aa-92b926d5af53",
   "metadata": {},
   "source": [
    "![veri modelleme](../assets/veri_modelleme.png)"
   ]
  },
  {
   "cell_type": "markdown",
   "id": "871f4187-67f3-4ba3-ac32-8eb8df8cb604",
   "metadata": {},
   "source": [
    "**Problem:** Öğrenciler yapay zekâ çözümleri için problemin sınıflandırma, regresyon veya\n",
    "kümeleme türünü belirler. Örneğin kedi ve köpek verilerinden oluşan veri setinin\n",
    "sınıflandırma problemi olduğunu, yaya sayısına göre trafik ışıklarının süresinin\n",
    "belirlenmesinin bir regresyon problemi olduğunu analiz eder.  \n",
    "**Veri Toplama:** Öğrenciler problemin çözümü ile ilgili açık erişimli internet sitelerinde yer\n",
    "alan (Kaggle, Github vs.) veya kendi toplamış oldukları verileri bir araya getirir.\n",
    "Veri Önişleme: Bu aşamada, toplanan veriler üzerinde eksik verileri tamamlama, anlamsız\n",
    "verileri çıkarma gibi veri önişleme aşamaları gerçekleştirilerek yapay zekâda oluşabilecek\n",
    "problemlerin önlenmesi sağlanır.  \n",
    "**Eğitim:** Veri önişleme sonrasında anlamlandırılan verilerden eğitim için ayrılan verileri\n",
    "yapay zekâ modelleri ile eğitir.  \n",
    "**Test:** Eğitilen modellerin doğruluğu test verileri ile değerlendirilerek anlamlı sonuçlar elde\n",
    "edilmeye çalışılır.  \n",
    "**Sonuç:** Test edilen veriler üzerinde en doğru sonuç veren modeli seçer."
   ]
  },
  {
   "cell_type": "markdown",
   "id": "770b9a7f-b7bb-4ce9-8d17-7ff19614ffdc",
   "metadata": {},
   "source": [
    "## Temel Kütüphaneler\n",
    "**Numpy:** Hesaplama işlemleri, diziler ve diziler üzerinde hızlı işlemler yapılabilmesi için kullanılan\n",
    "önemli kütüphanelerden birisidir  \n",
    "**Matplotlib:** Görüntüleri yüksek kalitede gösterebilmek için kullanılan bir çizim kütüphanesidir  \n",
    "**Scikit-Learn:** Makine öğrenme modelleri oluşturmak için kullanılan bir kütüphanedir. Regresyon\n",
    "(tahminleme), kümeleme ve sınıflandırma için kullanılan pek çok öğrenme algoritmasına sahiptir  \n",
    "**TensorFlow:** Google tarafından geliştirilen açık kaynaklı kodlu bir derin öğrenme kütüphanesidir  \n",
    "**Keras:** Derin sinir ağları ile hızlı eğitim yapabilmek için tasarlanan açık kaynak kodlu bir sinir ağı\n",
    "kütüphanesidir  \n",
    "**Pandas:** Tablosal veri işlemesi ve analizi için kullanılan Python temel kütüphanesidir  \n",
    "**Pillow:** Görüntü işleme için kullanılan Python temel kütüphanesidir  \n",
    "**Not:sckit-fuzzy , sckit-learn ... kurulumları göster**"
   ]
  },
  {
   "cell_type": "markdown",
   "id": "f9ff6626-90c7-41c4-9eb6-5b805a2ce39f",
   "metadata": {},
   "source": [
    "![cahit arf](../assets/arf.png)"
   ]
  },
  {
   "cell_type": "markdown",
   "id": "6332a7a5-7e44-4b75-b614-8d70b988489f",
   "metadata": {},
   "source": [
    "# Python ile Yapay Zekâ Veri İşleme\n",
    "Yapay zekâda veri işleme hem makine öğrenmesi hem de derin öğrenme modellerinden doğru bir biçimde  \n",
    "yararlanmak için kullanılan bir tekniktir. Makine öğrenimi yapay zekânın bir alt kümesidir,  \n",
    "bilgisayarların verilerden anlamlı sonuçlar elde edilmesini sağlayan önemli tekniklerden birisidir. Derin  \n",
    "öğrenme ise, beyindeki sinir ağlarını örnek alarak çalışan karmaşık sorunların çözülmesini sağlayan  \n",
    "makine öğreniminin alt kümesidir. Yapay zekâda toplanan veriler üzerinde; eksiklik, gürültü (yanlış veri) ve  \n",
    "tutarsızlık gibi farklı nedenlerden dolayı veri işleme problemleri yaşanabilir. Şekil 1.13’te gösterildiği gibi  \n",
    "yapay zekâ veri işleme aşamaları şu şekilde sıralanmaktadır:  \n",
    "\n",
    "**Eksik Verileri Tamamlama:** Yapay zekâ veri işleme sürecinde ilk aşamada toplanan verilerdeki eksik  \n",
    "değerler bulunur. Eksik verileri tamamlamak için öznitelik oluşturma, sınıflandırma, ölçeklendirme-  \n",
    "normalize etme ve uç verileri tespit etme yöntemleri kullanılır. \n",
    "\n",
    "**Veri Bölme:** Yapay zekâda veriler eğitim ve test olmak üzere ikiye ayrılır. Eğitim verisi, modelin eğitildiği  \n",
    "verileri, test verisi ise modelin eğitilmeyen veriler üzerindeki sonuçlarını görmek için kullanılır.  \n",
    "\n",
    "**Modelin Eğitilmesi:** Yapay zekânın doğru bir tahmin yapabilmesi için temizlenmiş verilerin eğitilmesi  \n",
    "gerekir.  \n",
    "\n",
    "**Modelin Testi ve Doğrulanması:** Test verileri ile eğitilen model doğrulanarak yapay zekâ modeli\n",
    "değerlendirilir."
   ]
  },
  {
   "cell_type": "markdown",
   "id": "122bf01e-f5f7-4c25-a9e8-71d16e778673",
   "metadata": {},
   "source": [
    "Örnek:https://teachablemachine.withgoogle.com/"
   ]
  },
  {
   "cell_type": "markdown",
   "id": "acd511ea-063e-4151-bf94-09bbfa401a7d",
   "metadata": {},
   "source": [
    "---\n",
    "# İris çiçeği\n",
    "\n",
    "![iris](../assets/iris.png)\n",
    "![iris_table.png](../assets/iris_table.png)"
   ]
  },
  {
   "cell_type": "code",
   "execution_count": 3,
   "id": "7fa0d486-4539-48c8-afa7-3ae9cc571fc0",
   "metadata": {},
   "outputs": [
    {
     "data": {
      "text/html": [
       "<div>\n",
       "<style scoped>\n",
       "    .dataframe tbody tr th:only-of-type {\n",
       "        vertical-align: middle;\n",
       "    }\n",
       "\n",
       "    .dataframe tbody tr th {\n",
       "        vertical-align: top;\n",
       "    }\n",
       "\n",
       "    .dataframe thead th {\n",
       "        text-align: right;\n",
       "    }\n",
       "</style>\n",
       "<table border=\"1\" class=\"dataframe\">\n",
       "  <thead>\n",
       "    <tr style=\"text-align: right;\">\n",
       "      <th></th>\n",
       "      <th>Alt Yapark uzunluğu (cm)</th>\n",
       "      <th>Alt Yapark genişliği (cm)</th>\n",
       "      <th>Üst Yapark uzunluğu (cm)</th>\n",
       "      <th>Üst Yapark genişliği (cm)</th>\n",
       "      <th>Sınıf</th>\n",
       "    </tr>\n",
       "  </thead>\n",
       "  <tbody>\n",
       "    <tr>\n",
       "      <th>0</th>\n",
       "      <td>5.1</td>\n",
       "      <td>3.5</td>\n",
       "      <td>1.4</td>\n",
       "      <td>0.2</td>\n",
       "      <td>setosa</td>\n",
       "    </tr>\n",
       "    <tr>\n",
       "      <th>1</th>\n",
       "      <td>4.9</td>\n",
       "      <td>3.0</td>\n",
       "      <td>1.4</td>\n",
       "      <td>0.2</td>\n",
       "      <td>setosa</td>\n",
       "    </tr>\n",
       "    <tr>\n",
       "      <th>2</th>\n",
       "      <td>4.7</td>\n",
       "      <td>3.2</td>\n",
       "      <td>1.3</td>\n",
       "      <td>0.2</td>\n",
       "      <td>setosa</td>\n",
       "    </tr>\n",
       "    <tr>\n",
       "      <th>3</th>\n",
       "      <td>4.6</td>\n",
       "      <td>3.1</td>\n",
       "      <td>1.5</td>\n",
       "      <td>0.2</td>\n",
       "      <td>setosa</td>\n",
       "    </tr>\n",
       "    <tr>\n",
       "      <th>4</th>\n",
       "      <td>5.0</td>\n",
       "      <td>3.6</td>\n",
       "      <td>1.4</td>\n",
       "      <td>0.2</td>\n",
       "      <td>setosa</td>\n",
       "    </tr>\n",
       "    <tr>\n",
       "      <th>...</th>\n",
       "      <td>...</td>\n",
       "      <td>...</td>\n",
       "      <td>...</td>\n",
       "      <td>...</td>\n",
       "      <td>...</td>\n",
       "    </tr>\n",
       "    <tr>\n",
       "      <th>145</th>\n",
       "      <td>6.7</td>\n",
       "      <td>3.0</td>\n",
       "      <td>5.2</td>\n",
       "      <td>2.3</td>\n",
       "      <td>virginica</td>\n",
       "    </tr>\n",
       "    <tr>\n",
       "      <th>146</th>\n",
       "      <td>6.3</td>\n",
       "      <td>2.5</td>\n",
       "      <td>5.0</td>\n",
       "      <td>1.9</td>\n",
       "      <td>virginica</td>\n",
       "    </tr>\n",
       "    <tr>\n",
       "      <th>147</th>\n",
       "      <td>6.5</td>\n",
       "      <td>3.0</td>\n",
       "      <td>5.2</td>\n",
       "      <td>2.0</td>\n",
       "      <td>virginica</td>\n",
       "    </tr>\n",
       "    <tr>\n",
       "      <th>148</th>\n",
       "      <td>6.2</td>\n",
       "      <td>3.4</td>\n",
       "      <td>5.4</td>\n",
       "      <td>2.3</td>\n",
       "      <td>virginica</td>\n",
       "    </tr>\n",
       "    <tr>\n",
       "      <th>149</th>\n",
       "      <td>5.9</td>\n",
       "      <td>3.0</td>\n",
       "      <td>5.1</td>\n",
       "      <td>1.8</td>\n",
       "      <td>virginica</td>\n",
       "    </tr>\n",
       "  </tbody>\n",
       "</table>\n",
       "<p>150 rows × 5 columns</p>\n",
       "</div>"
      ],
      "text/plain": [
       "     Alt Yapark uzunluğu (cm)  Alt Yapark genişliği (cm)  \\\n",
       "0                         5.1                        3.5   \n",
       "1                         4.9                        3.0   \n",
       "2                         4.7                        3.2   \n",
       "3                         4.6                        3.1   \n",
       "4                         5.0                        3.6   \n",
       "..                        ...                        ...   \n",
       "145                       6.7                        3.0   \n",
       "146                       6.3                        2.5   \n",
       "147                       6.5                        3.0   \n",
       "148                       6.2                        3.4   \n",
       "149                       5.9                        3.0   \n",
       "\n",
       "     Üst Yapark uzunluğu (cm)  Üst Yapark genişliği (cm)       Sınıf  \n",
       "0                         1.4                        0.2      setosa  \n",
       "1                         1.4                        0.2      setosa  \n",
       "2                         1.3                        0.2      setosa  \n",
       "3                         1.5                        0.2      setosa  \n",
       "4                         1.4                        0.2      setosa  \n",
       "..                        ...                        ...         ...  \n",
       "145                       5.2                        2.3   virginica  \n",
       "146                       5.0                        1.9   virginica  \n",
       "147                       5.2                        2.0   virginica  \n",
       "148                       5.4                        2.3   virginica  \n",
       "149                       5.1                        1.8   virginica  \n",
       "\n",
       "[150 rows x 5 columns]"
      ]
     },
     "execution_count": 3,
     "metadata": {},
     "output_type": "execute_result"
    }
   ],
   "source": [
    "import pandas as pd\n",
    "pd.read_excel(\"../data/iris.xls\")"
   ]
  },
  {
   "cell_type": "markdown",
   "id": "eb8ebb42-5687-45d1-8a8e-d7da7533e7c9",
   "metadata": {},
   "source": [
    "Birden çok değer alan ve değişim gösteren her şeye “değişken” adı verilir. Yapay\n",
    "zekâda sonuca etki eden değişkene **“bağımsız değişken”**, başka bir değişkene bağlı olan yani\n",
    "etkilenen değişkene **“bağımlı değişken”** denir. Daha sonra bağımlı/bağımsız hedef değişkenin\n",
    "değeri kategorik sınıftan sayısala çevrilmiştir."
   ]
  },
  {
   "cell_type": "code",
   "execution_count": 2,
   "id": "7873ffac-c03c-4d0b-926f-3529bc3756ba",
   "metadata": {},
   "outputs": [
    {
     "data": {
      "text/plain": [
       "{'data': array([[5.1, 3.5, 1.4, 0.2],\n",
       "        [4.9, 3. , 1.4, 0.2],\n",
       "        [4.7, 3.2, 1.3, 0.2],\n",
       "        [4.6, 3.1, 1.5, 0.2],\n",
       "        [5. , 3.6, 1.4, 0.2],\n",
       "        [5.4, 3.9, 1.7, 0.4],\n",
       "        [4.6, 3.4, 1.4, 0.3],\n",
       "        [5. , 3.4, 1.5, 0.2],\n",
       "        [4.4, 2.9, 1.4, 0.2],\n",
       "        [4.9, 3.1, 1.5, 0.1],\n",
       "        [5.4, 3.7, 1.5, 0.2],\n",
       "        [4.8, 3.4, 1.6, 0.2],\n",
       "        [4.8, 3. , 1.4, 0.1],\n",
       "        [4.3, 3. , 1.1, 0.1],\n",
       "        [5.8, 4. , 1.2, 0.2],\n",
       "        [5.7, 4.4, 1.5, 0.4],\n",
       "        [5.4, 3.9, 1.3, 0.4],\n",
       "        [5.1, 3.5, 1.4, 0.3],\n",
       "        [5.7, 3.8, 1.7, 0.3],\n",
       "        [5.1, 3.8, 1.5, 0.3],\n",
       "        [5.4, 3.4, 1.7, 0.2],\n",
       "        [5.1, 3.7, 1.5, 0.4],\n",
       "        [4.6, 3.6, 1. , 0.2],\n",
       "        [5.1, 3.3, 1.7, 0.5],\n",
       "        [4.8, 3.4, 1.9, 0.2],\n",
       "        [5. , 3. , 1.6, 0.2],\n",
       "        [5. , 3.4, 1.6, 0.4],\n",
       "        [5.2, 3.5, 1.5, 0.2],\n",
       "        [5.2, 3.4, 1.4, 0.2],\n",
       "        [4.7, 3.2, 1.6, 0.2],\n",
       "        [4.8, 3.1, 1.6, 0.2],\n",
       "        [5.4, 3.4, 1.5, 0.4],\n",
       "        [5.2, 4.1, 1.5, 0.1],\n",
       "        [5.5, 4.2, 1.4, 0.2],\n",
       "        [4.9, 3.1, 1.5, 0.2],\n",
       "        [5. , 3.2, 1.2, 0.2],\n",
       "        [5.5, 3.5, 1.3, 0.2],\n",
       "        [4.9, 3.6, 1.4, 0.1],\n",
       "        [4.4, 3. , 1.3, 0.2],\n",
       "        [5.1, 3.4, 1.5, 0.2],\n",
       "        [5. , 3.5, 1.3, 0.3],\n",
       "        [4.5, 2.3, 1.3, 0.3],\n",
       "        [4.4, 3.2, 1.3, 0.2],\n",
       "        [5. , 3.5, 1.6, 0.6],\n",
       "        [5.1, 3.8, 1.9, 0.4],\n",
       "        [4.8, 3. , 1.4, 0.3],\n",
       "        [5.1, 3.8, 1.6, 0.2],\n",
       "        [4.6, 3.2, 1.4, 0.2],\n",
       "        [5.3, 3.7, 1.5, 0.2],\n",
       "        [5. , 3.3, 1.4, 0.2],\n",
       "        [7. , 3.2, 4.7, 1.4],\n",
       "        [6.4, 3.2, 4.5, 1.5],\n",
       "        [6.9, 3.1, 4.9, 1.5],\n",
       "        [5.5, 2.3, 4. , 1.3],\n",
       "        [6.5, 2.8, 4.6, 1.5],\n",
       "        [5.7, 2.8, 4.5, 1.3],\n",
       "        [6.3, 3.3, 4.7, 1.6],\n",
       "        [4.9, 2.4, 3.3, 1. ],\n",
       "        [6.6, 2.9, 4.6, 1.3],\n",
       "        [5.2, 2.7, 3.9, 1.4],\n",
       "        [5. , 2. , 3.5, 1. ],\n",
       "        [5.9, 3. , 4.2, 1.5],\n",
       "        [6. , 2.2, 4. , 1. ],\n",
       "        [6.1, 2.9, 4.7, 1.4],\n",
       "        [5.6, 2.9, 3.6, 1.3],\n",
       "        [6.7, 3.1, 4.4, 1.4],\n",
       "        [5.6, 3. , 4.5, 1.5],\n",
       "        [5.8, 2.7, 4.1, 1. ],\n",
       "        [6.2, 2.2, 4.5, 1.5],\n",
       "        [5.6, 2.5, 3.9, 1.1],\n",
       "        [5.9, 3.2, 4.8, 1.8],\n",
       "        [6.1, 2.8, 4. , 1.3],\n",
       "        [6.3, 2.5, 4.9, 1.5],\n",
       "        [6.1, 2.8, 4.7, 1.2],\n",
       "        [6.4, 2.9, 4.3, 1.3],\n",
       "        [6.6, 3. , 4.4, 1.4],\n",
       "        [6.8, 2.8, 4.8, 1.4],\n",
       "        [6.7, 3. , 5. , 1.7],\n",
       "        [6. , 2.9, 4.5, 1.5],\n",
       "        [5.7, 2.6, 3.5, 1. ],\n",
       "        [5.5, 2.4, 3.8, 1.1],\n",
       "        [5.5, 2.4, 3.7, 1. ],\n",
       "        [5.8, 2.7, 3.9, 1.2],\n",
       "        [6. , 2.7, 5.1, 1.6],\n",
       "        [5.4, 3. , 4.5, 1.5],\n",
       "        [6. , 3.4, 4.5, 1.6],\n",
       "        [6.7, 3.1, 4.7, 1.5],\n",
       "        [6.3, 2.3, 4.4, 1.3],\n",
       "        [5.6, 3. , 4.1, 1.3],\n",
       "        [5.5, 2.5, 4. , 1.3],\n",
       "        [5.5, 2.6, 4.4, 1.2],\n",
       "        [6.1, 3. , 4.6, 1.4],\n",
       "        [5.8, 2.6, 4. , 1.2],\n",
       "        [5. , 2.3, 3.3, 1. ],\n",
       "        [5.6, 2.7, 4.2, 1.3],\n",
       "        [5.7, 3. , 4.2, 1.2],\n",
       "        [5.7, 2.9, 4.2, 1.3],\n",
       "        [6.2, 2.9, 4.3, 1.3],\n",
       "        [5.1, 2.5, 3. , 1.1],\n",
       "        [5.7, 2.8, 4.1, 1.3],\n",
       "        [6.3, 3.3, 6. , 2.5],\n",
       "        [5.8, 2.7, 5.1, 1.9],\n",
       "        [7.1, 3. , 5.9, 2.1],\n",
       "        [6.3, 2.9, 5.6, 1.8],\n",
       "        [6.5, 3. , 5.8, 2.2],\n",
       "        [7.6, 3. , 6.6, 2.1],\n",
       "        [4.9, 2.5, 4.5, 1.7],\n",
       "        [7.3, 2.9, 6.3, 1.8],\n",
       "        [6.7, 2.5, 5.8, 1.8],\n",
       "        [7.2, 3.6, 6.1, 2.5],\n",
       "        [6.5, 3.2, 5.1, 2. ],\n",
       "        [6.4, 2.7, 5.3, 1.9],\n",
       "        [6.8, 3. , 5.5, 2.1],\n",
       "        [5.7, 2.5, 5. , 2. ],\n",
       "        [5.8, 2.8, 5.1, 2.4],\n",
       "        [6.4, 3.2, 5.3, 2.3],\n",
       "        [6.5, 3. , 5.5, 1.8],\n",
       "        [7.7, 3.8, 6.7, 2.2],\n",
       "        [7.7, 2.6, 6.9, 2.3],\n",
       "        [6. , 2.2, 5. , 1.5],\n",
       "        [6.9, 3.2, 5.7, 2.3],\n",
       "        [5.6, 2.8, 4.9, 2. ],\n",
       "        [7.7, 2.8, 6.7, 2. ],\n",
       "        [6.3, 2.7, 4.9, 1.8],\n",
       "        [6.7, 3.3, 5.7, 2.1],\n",
       "        [7.2, 3.2, 6. , 1.8],\n",
       "        [6.2, 2.8, 4.8, 1.8],\n",
       "        [6.1, 3. , 4.9, 1.8],\n",
       "        [6.4, 2.8, 5.6, 2.1],\n",
       "        [7.2, 3. , 5.8, 1.6],\n",
       "        [7.4, 2.8, 6.1, 1.9],\n",
       "        [7.9, 3.8, 6.4, 2. ],\n",
       "        [6.4, 2.8, 5.6, 2.2],\n",
       "        [6.3, 2.8, 5.1, 1.5],\n",
       "        [6.1, 2.6, 5.6, 1.4],\n",
       "        [7.7, 3. , 6.1, 2.3],\n",
       "        [6.3, 3.4, 5.6, 2.4],\n",
       "        [6.4, 3.1, 5.5, 1.8],\n",
       "        [6. , 3. , 4.8, 1.8],\n",
       "        [6.9, 3.1, 5.4, 2.1],\n",
       "        [6.7, 3.1, 5.6, 2.4],\n",
       "        [6.9, 3.1, 5.1, 2.3],\n",
       "        [5.8, 2.7, 5.1, 1.9],\n",
       "        [6.8, 3.2, 5.9, 2.3],\n",
       "        [6.7, 3.3, 5.7, 2.5],\n",
       "        [6.7, 3. , 5.2, 2.3],\n",
       "        [6.3, 2.5, 5. , 1.9],\n",
       "        [6.5, 3. , 5.2, 2. ],\n",
       "        [6.2, 3.4, 5.4, 2.3],\n",
       "        [5.9, 3. , 5.1, 1.8]]),\n",
       " 'target': array([0, 0, 0, 0, 0, 0, 0, 0, 0, 0, 0, 0, 0, 0, 0, 0, 0, 0, 0, 0, 0, 0,\n",
       "        0, 0, 0, 0, 0, 0, 0, 0, 0, 0, 0, 0, 0, 0, 0, 0, 0, 0, 0, 0, 0, 0,\n",
       "        0, 0, 0, 0, 0, 0, 1, 1, 1, 1, 1, 1, 1, 1, 1, 1, 1, 1, 1, 1, 1, 1,\n",
       "        1, 1, 1, 1, 1, 1, 1, 1, 1, 1, 1, 1, 1, 1, 1, 1, 1, 1, 1, 1, 1, 1,\n",
       "        1, 1, 1, 1, 1, 1, 1, 1, 1, 1, 1, 1, 2, 2, 2, 2, 2, 2, 2, 2, 2, 2,\n",
       "        2, 2, 2, 2, 2, 2, 2, 2, 2, 2, 2, 2, 2, 2, 2, 2, 2, 2, 2, 2, 2, 2,\n",
       "        2, 2, 2, 2, 2, 2, 2, 2, 2, 2, 2, 2, 2, 2, 2, 2, 2, 2]),\n",
       " 'frame': None,\n",
       " 'target_names': array(['setosa', 'versicolor', 'virginica'], dtype='<U10'),\n",
       " 'DESCR': '.. _iris_dataset:\\n\\nIris plants dataset\\n--------------------\\n\\n**Data Set Characteristics:**\\n\\n    :Number of Instances: 150 (50 in each of three classes)\\n    :Number of Attributes: 4 numeric, predictive attributes and the class\\n    :Attribute Information:\\n        - sepal length in cm\\n        - sepal width in cm\\n        - petal length in cm\\n        - petal width in cm\\n        - class:\\n                - Iris-Setosa\\n                - Iris-Versicolour\\n                - Iris-Virginica\\n                \\n    :Summary Statistics:\\n\\n    ============== ==== ==== ======= ===== ====================\\n                    Min  Max   Mean    SD   Class Correlation\\n    ============== ==== ==== ======= ===== ====================\\n    sepal length:   4.3  7.9   5.84   0.83    0.7826\\n    sepal width:    2.0  4.4   3.05   0.43   -0.4194\\n    petal length:   1.0  6.9   3.76   1.76    0.9490  (high!)\\n    petal width:    0.1  2.5   1.20   0.76    0.9565  (high!)\\n    ============== ==== ==== ======= ===== ====================\\n\\n    :Missing Attribute Values: None\\n    :Class Distribution: 33.3% for each of 3 classes.\\n    :Creator: R.A. Fisher\\n    :Donor: Michael Marshall (MARSHALL%PLU@io.arc.nasa.gov)\\n    :Date: July, 1988\\n\\nThe famous Iris database, first used by Sir R.A. Fisher. The dataset is taken\\nfrom Fisher\\'s paper. Note that it\\'s the same as in R, but not as in the UCI\\nMachine Learning Repository, which has two wrong data points.\\n\\nThis is perhaps the best known database to be found in the\\npattern recognition literature.  Fisher\\'s paper is a classic in the field and\\nis referenced frequently to this day.  (See Duda & Hart, for example.)  The\\ndata set contains 3 classes of 50 instances each, where each class refers to a\\ntype of iris plant.  One class is linearly separable from the other 2; the\\nlatter are NOT linearly separable from each other.\\n\\n|details-start|\\n**References**\\n|details-split|\\n\\n- Fisher, R.A. \"The use of multiple measurements in taxonomic problems\"\\n  Annual Eugenics, 7, Part II, 179-188 (1936); also in \"Contributions to\\n  Mathematical Statistics\" (John Wiley, NY, 1950).\\n- Duda, R.O., & Hart, P.E. (1973) Pattern Classification and Scene Analysis.\\n  (Q327.D83) John Wiley & Sons.  ISBN 0-471-22361-1.  See page 218.\\n- Dasarathy, B.V. (1980) \"Nosing Around the Neighborhood: A New System\\n  Structure and Classification Rule for Recognition in Partially Exposed\\n  Environments\".  IEEE Transactions on Pattern Analysis and Machine\\n  Intelligence, Vol. PAMI-2, No. 1, 67-71.\\n- Gates, G.W. (1972) \"The Reduced Nearest Neighbor Rule\".  IEEE Transactions\\n  on Information Theory, May 1972, 431-433.\\n- See also: 1988 MLC Proceedings, 54-64.  Cheeseman et al\"s AUTOCLASS II\\n  conceptual clustering system finds 3 classes in the data.\\n- Many, many more ...\\n\\n|details-end|',\n",
       " 'feature_names': ['sepal length (cm)',\n",
       "  'sepal width (cm)',\n",
       "  'petal length (cm)',\n",
       "  'petal width (cm)'],\n",
       " 'filename': 'iris.csv',\n",
       " 'data_module': 'sklearn.datasets.data'}"
      ]
     },
     "execution_count": 2,
     "metadata": {},
     "output_type": "execute_result"
    }
   ],
   "source": [
    "import sklearn\n",
    "from sklearn import datasets\n",
    "\n",
    "iris = datasets.load_iris()\n",
    "iris"
   ]
  },
  {
   "cell_type": "code",
   "execution_count": 8,
   "id": "c6561df3-e6a9-47de-9a1a-9a821bc0b8de",
   "metadata": {},
   "outputs": [
    {
     "data": {
      "text/plain": [
       "['sepal length (cm)',\n",
       " 'sepal width (cm)',\n",
       " 'petal length (cm)',\n",
       " 'petal width (cm)']"
      ]
     },
     "execution_count": 8,
     "metadata": {},
     "output_type": "execute_result"
    }
   ],
   "source": [
    "iris.feature_names"
   ]
  },
  {
   "cell_type": "code",
   "execution_count": 9,
   "id": "febe567f-b323-4ca5-805b-16360398e2ea",
   "metadata": {},
   "outputs": [
    {
     "data": {
      "text/plain": [
       "array(['setosa', 'versicolor', 'virginica'], dtype='<U10')"
      ]
     },
     "execution_count": 9,
     "metadata": {},
     "output_type": "execute_result"
    }
   ],
   "source": [
    "iris.target_names"
   ]
  },
  {
   "cell_type": "markdown",
   "id": "9c0a4e86-eef1-447e-8138-7ac54350aa45",
   "metadata": {},
   "source": [
    "# Veri Seti Hazırlama"
   ]
  },
  {
   "cell_type": "code",
   "execution_count": 3,
   "id": "adf288b2-5a56-4462-a859-d9406a70f850",
   "metadata": {},
   "outputs": [
    {
     "data": {
      "text/plain": [
       "array([[5.1, 3.5, 1.4, 0.2],\n",
       "       [4.9, 3. , 1.4, 0.2],\n",
       "       [4.7, 3.2, 1.3, 0.2],\n",
       "       [4.6, 3.1, 1.5, 0.2],\n",
       "       [5. , 3.6, 1.4, 0.2],\n",
       "       [5.4, 3.9, 1.7, 0.4],\n",
       "       [4.6, 3.4, 1.4, 0.3],\n",
       "       [5. , 3.4, 1.5, 0.2],\n",
       "       [4.4, 2.9, 1.4, 0.2],\n",
       "       [4.9, 3.1, 1.5, 0.1]])"
      ]
     },
     "execution_count": 3,
     "metadata": {},
     "output_type": "execute_result"
    }
   ],
   "source": [
    "tablo = iris.data\n",
    "tablo[:10]"
   ]
  },
  {
   "cell_type": "code",
   "execution_count": 4,
   "id": "b6cae976-b605-468c-95a7-1fb22ccbdc16",
   "metadata": {},
   "outputs": [
    {
     "data": {
      "text/plain": [
       "array([0, 0, 0, 0, 0, 0, 0, 0, 0, 0, 0, 0, 0, 0, 0, 0, 0, 0, 0, 0, 0, 0,\n",
       "       0, 0, 0, 0, 0, 0, 0, 0, 0, 0, 0, 0, 0, 0, 0, 0, 0, 0, 0, 0, 0, 0,\n",
       "       0, 0, 0, 0, 0, 0, 1, 1, 1, 1, 1, 1, 1, 1, 1, 1, 1, 1, 1, 1, 1, 1,\n",
       "       1, 1, 1, 1, 1, 1, 1, 1, 1, 1, 1, 1, 1, 1, 1, 1, 1, 1, 1, 1, 1, 1,\n",
       "       1, 1, 1, 1, 1, 1, 1, 1, 1, 1, 1, 1, 2, 2, 2, 2, 2, 2, 2, 2, 2, 2,\n",
       "       2, 2, 2, 2, 2, 2, 2, 2, 2, 2, 2, 2, 2, 2, 2, 2, 2, 2, 2, 2, 2, 2,\n",
       "       2, 2, 2, 2, 2, 2, 2, 2, 2, 2, 2, 2, 2, 2, 2, 2, 2, 2])"
      ]
     },
     "execution_count": 4,
     "metadata": {},
     "output_type": "execute_result"
    }
   ],
   "source": [
    "sonuc = iris.target\n",
    "sonuc"
   ]
  },
  {
   "cell_type": "code",
   "execution_count": 14,
   "id": "3e38bddd-1dcb-4411-8079-75295bd5b48f",
   "metadata": {},
   "outputs": [
    {
     "data": {
      "text/plain": [
       "((150, 4), (150,))"
      ]
     },
     "execution_count": 14,
     "metadata": {},
     "output_type": "execute_result"
    }
   ],
   "source": [
    "tablo.shape,sonuc.shape"
   ]
  },
  {
   "cell_type": "markdown",
   "id": "19d069ba-ca99-4145-9d18-fd19858a31e0",
   "metadata": {},
   "source": [
    "Eğitim ve test veri setletlerini ayırırken minumum %75 eğitim %25 test veri olacak şekilde ayrılır.Genellikle bu işlemde verinin %80'i eğitim için \n",
    "%20 ise test için ayrılır."
   ]
  },
  {
   "cell_type": "code",
   "execution_count": 5,
   "id": "d83b72a3-60cb-4011-a240-bdde9863662a",
   "metadata": {},
   "outputs": [
    {
     "data": {
      "text/plain": [
       "(array([[6.4, 3.1, 5.5, 1.8],\n",
       "        [5.4, 3. , 4.5, 1.5],\n",
       "        [5.2, 3.5, 1.5, 0.2],\n",
       "        [6.1, 3. , 4.9, 1.8],\n",
       "        [6.4, 2.8, 5.6, 2.2],\n",
       "        [5.2, 2.7, 3.9, 1.4],\n",
       "        [5.7, 3.8, 1.7, 0.3],\n",
       "        [6. , 2.7, 5.1, 1.6],\n",
       "        [5.9, 3. , 4.2, 1.5],\n",
       "        [5.8, 2.6, 4. , 1.2]]),\n",
       " array([2, 1, 0, 2, 2, 1, 0, 1, 1, 1]))"
      ]
     },
     "execution_count": 5,
     "metadata": {},
     "output_type": "execute_result"
    }
   ],
   "source": [
    "from sklearn.model_selection import train_test_split\n",
    "\n",
    "egitim_tablosu,test_tablosu,egitim_sonuc_tablosu, test_sonuc_tablosu = train_test_split(tablo,sonuc,test_size=0.20,random_state=0)\n",
    "egitim_tablosu[:10],egitim_sonuc_tablosu[:10]"
   ]
  },
  {
   "cell_type": "markdown",
   "id": "a64bfe9e-8e70-41d4-88a0-bae90253980c",
   "metadata": {},
   "source": [
    "![karar agacalri](../assets/karar_agaclari.png)"
   ]
  },
  {
   "cell_type": "code",
   "execution_count": 6,
   "id": "de8fb38f-9a72-4567-b8e6-f996f0cc8cb3",
   "metadata": {},
   "outputs": [
    {
     "data": {
      "text/html": [
       "<style>#sk-container-id-1 {color: black;}#sk-container-id-1 pre{padding: 0;}#sk-container-id-1 div.sk-toggleable {background-color: white;}#sk-container-id-1 label.sk-toggleable__label {cursor: pointer;display: block;width: 100%;margin-bottom: 0;padding: 0.3em;box-sizing: border-box;text-align: center;}#sk-container-id-1 label.sk-toggleable__label-arrow:before {content: \"▸\";float: left;margin-right: 0.25em;color: #696969;}#sk-container-id-1 label.sk-toggleable__label-arrow:hover:before {color: black;}#sk-container-id-1 div.sk-estimator:hover label.sk-toggleable__label-arrow:before {color: black;}#sk-container-id-1 div.sk-toggleable__content {max-height: 0;max-width: 0;overflow: hidden;text-align: left;background-color: #f0f8ff;}#sk-container-id-1 div.sk-toggleable__content pre {margin: 0.2em;color: black;border-radius: 0.25em;background-color: #f0f8ff;}#sk-container-id-1 input.sk-toggleable__control:checked~div.sk-toggleable__content {max-height: 200px;max-width: 100%;overflow: auto;}#sk-container-id-1 input.sk-toggleable__control:checked~label.sk-toggleable__label-arrow:before {content: \"▾\";}#sk-container-id-1 div.sk-estimator input.sk-toggleable__control:checked~label.sk-toggleable__label {background-color: #d4ebff;}#sk-container-id-1 div.sk-label input.sk-toggleable__control:checked~label.sk-toggleable__label {background-color: #d4ebff;}#sk-container-id-1 input.sk-hidden--visually {border: 0;clip: rect(1px 1px 1px 1px);clip: rect(1px, 1px, 1px, 1px);height: 1px;margin: -1px;overflow: hidden;padding: 0;position: absolute;width: 1px;}#sk-container-id-1 div.sk-estimator {font-family: monospace;background-color: #f0f8ff;border: 1px dotted black;border-radius: 0.25em;box-sizing: border-box;margin-bottom: 0.5em;}#sk-container-id-1 div.sk-estimator:hover {background-color: #d4ebff;}#sk-container-id-1 div.sk-parallel-item::after {content: \"\";width: 100%;border-bottom: 1px solid gray;flex-grow: 1;}#sk-container-id-1 div.sk-label:hover label.sk-toggleable__label {background-color: #d4ebff;}#sk-container-id-1 div.sk-serial::before {content: \"\";position: absolute;border-left: 1px solid gray;box-sizing: border-box;top: 0;bottom: 0;left: 50%;z-index: 0;}#sk-container-id-1 div.sk-serial {display: flex;flex-direction: column;align-items: center;background-color: white;padding-right: 0.2em;padding-left: 0.2em;position: relative;}#sk-container-id-1 div.sk-item {position: relative;z-index: 1;}#sk-container-id-1 div.sk-parallel {display: flex;align-items: stretch;justify-content: center;background-color: white;position: relative;}#sk-container-id-1 div.sk-item::before, #sk-container-id-1 div.sk-parallel-item::before {content: \"\";position: absolute;border-left: 1px solid gray;box-sizing: border-box;top: 0;bottom: 0;left: 50%;z-index: -1;}#sk-container-id-1 div.sk-parallel-item {display: flex;flex-direction: column;z-index: 1;position: relative;background-color: white;}#sk-container-id-1 div.sk-parallel-item:first-child::after {align-self: flex-end;width: 50%;}#sk-container-id-1 div.sk-parallel-item:last-child::after {align-self: flex-start;width: 50%;}#sk-container-id-1 div.sk-parallel-item:only-child::after {width: 0;}#sk-container-id-1 div.sk-dashed-wrapped {border: 1px dashed gray;margin: 0 0.4em 0.5em 0.4em;box-sizing: border-box;padding-bottom: 0.4em;background-color: white;}#sk-container-id-1 div.sk-label label {font-family: monospace;font-weight: bold;display: inline-block;line-height: 1.2em;}#sk-container-id-1 div.sk-label-container {text-align: center;}#sk-container-id-1 div.sk-container {/* jupyter's `normalize.less` sets `[hidden] { display: none; }` but bootstrap.min.css set `[hidden] { display: none !important; }` so we also need the `!important` here to be able to override the default hidden behavior on the sphinx rendered scikit-learn.org. See: https://github.com/scikit-learn/scikit-learn/issues/21755 */display: inline-block !important;position: relative;}#sk-container-id-1 div.sk-text-repr-fallback {display: none;}</style><div id=\"sk-container-id-1\" class=\"sk-top-container\"><div class=\"sk-text-repr-fallback\"><pre>DecisionTreeClassifier()</pre><b>In a Jupyter environment, please rerun this cell to show the HTML representation or trust the notebook. <br />On GitHub, the HTML representation is unable to render, please try loading this page with nbviewer.org.</b></div><div class=\"sk-container\" hidden><div class=\"sk-item\"><div class=\"sk-estimator sk-toggleable\"><input class=\"sk-toggleable__control sk-hidden--visually\" id=\"sk-estimator-id-1\" type=\"checkbox\" checked><label for=\"sk-estimator-id-1\" class=\"sk-toggleable__label sk-toggleable__label-arrow\">DecisionTreeClassifier</label><div class=\"sk-toggleable__content\"><pre>DecisionTreeClassifier()</pre></div></div></div></div></div>"
      ],
      "text/plain": [
       "DecisionTreeClassifier()"
      ]
     },
     "execution_count": 6,
     "metadata": {},
     "output_type": "execute_result"
    }
   ],
   "source": [
    "from sklearn.tree import DecisionTreeClassifier as karar_agacı\n",
    "model = karar_agacı()\n",
    "model.fit(egitim_tablosu, egitim_sonuc_tablosu)"
   ]
  },
  {
   "cell_type": "code",
   "execution_count": 26,
   "id": "0ad64068-17c0-43d4-8f54-98f303f42875",
   "metadata": {},
   "outputs": [
    {
     "data": {
      "text/plain": [
       "array([[5.8, 2.8, 5.1, 2.4],\n",
       "       [6. , 2.2, 4. , 1. ],\n",
       "       [5.5, 4.2, 1.4, 0.2],\n",
       "       [7.3, 2.9, 6.3, 1.8],\n",
       "       [5. , 3.4, 1.5, 0.2],\n",
       "       [6.3, 3.3, 6. , 2.5],\n",
       "       [5. , 3.5, 1.3, 0.3],\n",
       "       [6.7, 3.1, 4.7, 1.5],\n",
       "       [6.8, 2.8, 4.8, 1.4],\n",
       "       [6.1, 2.8, 4. , 1.3]])"
      ]
     },
     "execution_count": 26,
     "metadata": {},
     "output_type": "execute_result"
    }
   ],
   "source": [
    "test_tablosu[:10]"
   ]
  },
  {
   "cell_type": "code",
   "execution_count": 27,
   "id": "70eeb211-8bfc-455f-b970-f67eb8dc4843",
   "metadata": {},
   "outputs": [
    {
     "data": {
      "text/plain": [
       "array([2, 1, 0, 2, 0, 2, 0, 1, 1, 1, 2, 1, 1, 1, 1, 0, 1, 1, 0, 0, 2, 1,\n",
       "       0, 0, 2, 0, 0, 1, 1, 0])"
      ]
     },
     "execution_count": 27,
     "metadata": {},
     "output_type": "execute_result"
    }
   ],
   "source": [
    "model.predict(test_tablosu)"
   ]
  },
  {
   "cell_type": "code",
   "execution_count": 28,
   "id": "7e399207-8955-43b9-a073-cf385aaa2960",
   "metadata": {},
   "outputs": [
    {
     "data": {
      "text/plain": [
       "array([2, 1, 0, 2, 0, 2, 0, 1, 1, 1, 2, 1, 1, 1, 1, 0, 1, 1, 0, 0, 2, 1,\n",
       "       0, 0, 2, 0, 0, 1, 1, 0])"
      ]
     },
     "execution_count": 28,
     "metadata": {},
     "output_type": "execute_result"
    }
   ],
   "source": [
    "test_sonuc_tablosu"
   ]
  },
  {
   "cell_type": "code",
   "execution_count": 31,
   "id": "9edb5702-2287-4658-a53a-d3ece5b61659",
   "metadata": {},
   "outputs": [
    {
     "data": {
      "text/plain": [
       "array([[11,  0,  0],\n",
       "       [ 0, 13,  0],\n",
       "       [ 0,  0,  6]])"
      ]
     },
     "execution_count": 31,
     "metadata": {},
     "output_type": "execute_result"
    }
   ],
   "source": [
    "from sklearn.metrics import confusion_matrix\n",
    "tahmin_tablosu = model.predict(test_tablosu)\n",
    "hata_matrisi = confusion_matrix(test_sonuc_tablosu,tahmin_tablosu)\n",
    "hata_matrisi"
   ]
  },
  {
   "cell_type": "code",
   "execution_count": 33,
   "id": "4c22daea-0a56-4ea7-9d9b-71fe00f8745f",
   "metadata": {},
   "outputs": [
    {
     "data": {
      "text/plain": [
       "<Axes: >"
      ]
     },
     "execution_count": 33,
     "metadata": {},
     "output_type": "execute_result"
    },
    {
     "data": {
      "image/png": "[encoded data removed]",
      "text/plain": [
       "<Figure size 1000x600 with 2 Axes>"
      ]
     },
     "metadata": {},
     "output_type": "display_data"
    }
   ],
   "source": [
    "import seaborn as sns\n",
    "import pandas as pd\n",
    "import matplotlib.pyplot as plt\n",
    "index = ['setosa','versicolor','virginica']\n",
    "columns = ['setosa','versicolor','virginica']\n",
    "hata_goster = pd.DataFrame(hata_matrisi,columns,index)\n",
    "plt.figure(figsize=(10,6))\n",
    "sns.heatmap(hata_goster, annot=True)"
   ]
  },
  {
   "cell_type": "markdown",
   "id": "23b99ae5-09f4-4f30-8cd9-a7ef5c1d14e4",
   "metadata": {},
   "source": [
    "# KNN Algoritması\n",
    "![knn](../assets/knn.png)\n",
    "\n",
    "Video : https://www.youtube.com/watch?v=yAgehCX_oOU"
   ]
  },
  {
   "cell_type": "code",
   "execution_count": 8,
   "id": "3f441c74-7933-4be3-93f8-db7a0ca2af4c",
   "metadata": {},
   "outputs": [
    {
     "name": "stdout",
     "output_type": "stream",
     "text": [
      "Eğitim veri seti boyutu= 120\n",
      "Test veri seti boyutu= 30\n"
     ]
    },
    {
     "data": {
      "text/plain": [
       "array([[11,  0,  0],\n",
       "       [ 0, 12,  1],\n",
       "       [ 0,  0,  6]])"
      ]
     },
     "execution_count": 8,
     "metadata": {},
     "output_type": "execute_result"
    }
   ],
   "source": [
    "print(\"Eğitim veri seti boyutu=\",len(egitim_tablosu))\n",
    "print(\"Test veri seti boyutu=\",len(test_tablosu))\n",
    "\n",
    "from sklearn.neighbors import KNeighborsClassifier\n",
    "\n",
    "model = KNeighborsClassifier()\n",
    "model.fit(egitim_tablosu,egitim_sonuc_tablosu)\n",
    "\n",
    "\n",
    "hata_matrisi"
   ]
  },
  {
   "cell_type": "code",
   "execution_count": 16,
   "id": "ee58b10e-f7c6-48a0-99a8-d89c6eae55f2",
   "metadata": {},
   "outputs": [
    {
     "data": {
      "text/plain": [
       "(array([[5.8, 2.8, 5.1, 2.4],\n",
       "        [6. , 2.2, 4. , 1. ],\n",
       "        [5.5, 4.2, 1.4, 0.2],\n",
       "        [7.3, 2.9, 6.3, 1.8],\n",
       "        [5. , 3.4, 1.5, 0.2],\n",
       "        [6.3, 3.3, 6. , 2.5],\n",
       "        [5. , 3.5, 1.3, 0.3],\n",
       "        [6.7, 3.1, 4.7, 1.5],\n",
       "        [6.8, 2.8, 4.8, 1.4],\n",
       "        [6.1, 2.8, 4. , 1.3]]),\n",
       " array([2, 1, 0, 2, 0, 2, 0, 1, 1, 1]),\n",
       " array([2, 1, 0, 2, 0, 2, 0, 1, 1, 1]))"
      ]
     },
     "execution_count": 16,
     "metadata": {},
     "output_type": "execute_result"
    }
   ],
   "source": [
    "\n",
    "tahmin_tablosu = model.predict(test_tablosu)\n",
    "test_tablosu[:10],tahmin_tablosu[:10],test_sonuc_tablosu[:10]"
   ]
  },
  {
   "cell_type": "code",
   "execution_count": 17,
   "id": "1ea0e74f-ab9b-4801-96b7-46fc9e47a7bc",
   "metadata": {},
   "outputs": [
    {
     "data": {
      "text/plain": [
       "array([[11,  0,  0],\n",
       "       [ 0, 12,  1],\n",
       "       [ 0,  0,  6]])"
      ]
     },
     "execution_count": 17,
     "metadata": {},
     "output_type": "execute_result"
    }
   ],
   "source": [
    "\n",
    "from sklearn.metrics import confusion_matrix\n",
    "\n",
    "hata_matrisi = confusion_matrix(test_sonuc_tablosu, tahmin_tablosu)\n",
    "hata_matrisi"
   ]
  },
  {
   "cell_type": "code",
   "execution_count": 18,
   "id": "58a70897-7656-47ad-88cf-cf601ac8ac42",
   "metadata": {},
   "outputs": [
    {
     "data": {
      "text/plain": [
       "<Axes: >"
      ]
     },
     "execution_count": 18,
     "metadata": {},
     "output_type": "execute_result"
    },
    {
     "data": {
      "image/png": "[encoded data removed]",
      "text/plain": [
       "<Figure size 1000x600 with 2 Axes>"
      ]
     },
     "metadata": {},
     "output_type": "display_data"
    }
   ],
   "source": [
    "import seaborn as sns\n",
    "import pandas as pd\n",
    "import matplotlib.pyplot as plt\n",
    "index = ['setosa','versicolor','virginica'] \n",
    "columns = ['setosa','versicolor','virginica'] \n",
    "hata_goster = pd.DataFrame(hata_matrisi,columns,index)                      \n",
    "plt.figure(figsize=(10,6))  \n",
    "sns.heatmap(hata_goster, annot=True)"
   ]
  },
  {
   "cell_type": "code",
   "execution_count": 19,
   "id": "5795ba9a-a394-482e-9e3f-a42a63e46e78",
   "metadata": {},
   "outputs": [
    {
     "data": {
      "text/html": [
       "<div>\n",
       "<style scoped>\n",
       "    .dataframe tbody tr th:only-of-type {\n",
       "        vertical-align: middle;\n",
       "    }\n",
       "\n",
       "    .dataframe tbody tr th {\n",
       "        vertical-align: top;\n",
       "    }\n",
       "\n",
       "    .dataframe thead th {\n",
       "        text-align: right;\n",
       "    }\n",
       "</style>\n",
       "<table border=\"1\" class=\"dataframe\">\n",
       "  <thead>\n",
       "    <tr style=\"text-align: right;\">\n",
       "      <th></th>\n",
       "      <th>setosa</th>\n",
       "      <th>versicolor</th>\n",
       "      <th>virginica</th>\n",
       "    </tr>\n",
       "  </thead>\n",
       "  <tbody>\n",
       "    <tr>\n",
       "      <th>setosa</th>\n",
       "      <td>11</td>\n",
       "      <td>0</td>\n",
       "      <td>0</td>\n",
       "    </tr>\n",
       "    <tr>\n",
       "      <th>versicolor</th>\n",
       "      <td>0</td>\n",
       "      <td>12</td>\n",
       "      <td>1</td>\n",
       "    </tr>\n",
       "    <tr>\n",
       "      <th>virginica</th>\n",
       "      <td>0</td>\n",
       "      <td>0</td>\n",
       "      <td>6</td>\n",
       "    </tr>\n",
       "  </tbody>\n",
       "</table>\n",
       "</div>"
      ],
      "text/plain": [
       "            setosa  versicolor  virginica\n",
       "setosa          11           0          0\n",
       "versicolor       0          12          1\n",
       "virginica        0           0          6"
      ]
     },
     "execution_count": 19,
     "metadata": {},
     "output_type": "execute_result"
    }
   ],
   "source": [
    "hata_goster"
   ]
  },
  {
   "cell_type": "markdown",
   "id": "0959e879-f41d-4763-92d1-489142bc0809",
   "metadata": {},
   "source": [
    "---\n",
    "\"Hata matrisi\" terimi genellikle bir ölçüm veya tahminle gerçek değer arasındaki farkı gösteren bir matrisi ifade eder. Bu matris, genellikle istatistik ve makine öğrenimi alanlarında kullanılır. Hata matrisi, özellikle sınıflandırma problemlerinde performansı değerlendirmek için kullanılır. İki temel durumu değerlendirir: gerçek pozitif (True Positive - TP), gerçek negatif (True Negative - TN), yanlış pozitif (False Positive - FP) ve yanlış negatif (False Negative - FN).\n",
    "\n",
    "Bu terimleri açıklayalım:\n",
    "\n",
    "1. **True Positive (TP):** Modelin doğru bir şekilde bir pozitif örneği sınıflandırması durumudur. Örneğin, bir hastalığın varlığını doğru bir şekilde tespit etmek.\n",
    "\n",
    "2. **True Negative (TN):** Modelin doğru bir şekilde bir negatif örneği sınıflandırması durumudur. Örneğin, bir hastalığın olmadığını doğru bir şekilde belirlemek.\n",
    "\n",
    "3. **False Positive (FP):** Modelin aslında negatif olan bir örneği pozitif olarak sınıflandırması durumudur. Örneğin, bir hastanın aslında sağlıklı olduğunu, ancak modelin hastalık olduğunu tahmin etmesi.\n",
    "\n",
    "4. **False Negative (FN):** Modelin aslında pozitif olan bir örneği negatif olarak sınıflandırması durumudur. Örneğin, bir hastanın aslında hastalıklı olduğunu, ancak modelin sağlıklı olduğunu tahmin etmesi.\n",
    "\n",
    "Bu değerler kullanılarak hata matrisi aşağıdaki gibi gösterilebilir:\n",
    "\n",
    "\\[\n",
    "\\begin{matrix}\n",
    "TN & FP \\\\\n",
    "FN & TP \\\\\n",
    "\\end{matrix}\n",
    "\\]\n",
    "\n",
    "Hata matrisi, bir modelin performansını değerlendirmek ve özellikle sınıflandırma problemlerinde hangi tür hataların yapıldığını anlamak için kullanılır. Bu matris üzerinden çeşitli performans metrikleri hesaplanabilir, örneğin doğruluk (accuracy), hassasiyet (precision), duyarlılık (recall), F1 skoru gibi."
   ]
  },
  {
   "cell_type": "markdown",
   "id": "15bdb8c8-1f74-4a95-b213-0dc190c41f3c",
   "metadata": {},
   "source": [
    "---\n",
    "# Yapay Zeka Veri Tipleri\n",
    "\n",
    "![matematiksel kavramlar](../assets/kavramlar.png)\n",
    "\n",
    "\"Sayılar,\" \"matrisler,\" \"vektörler,\" ve \"tensörler\" terimleri matematik ve lineer cebirle ilgili kavramları ifade eder. İşte bu terimlerin genel açıklamaları:\n",
    "\n",
    "1. **Sayılar:**\n",
    "   - Sayılar, matematiksel ifadelerde kullanılan temel öğelerdir. Reel sayılar (örneğin, 5, -3.14), rasyonel sayılar (örneğin, 2/3), irrasyonel sayılar (örneğin, √2), ve kompleks sayılar (örneğin, 3 + 4i) gibi farklı tiplerde olabilirler. Sayılar, matematikte temel aritmetik işlemler ve diğer matematiksel operasyonlar için kullanılır.\n",
    "\n",
    "2. **Matrisler:**\n",
    "   - Bir matris, iki boyutlu bir dizi veya tablo olarak düşünülebilir. Genellikle satırlar ve sütunlar içerir. Matrisler, lineer cebirde ve istatistiksel analizlerde sıkça kullanılır. Bir matrisin elemanları genellikle sayılardır.\n",
    "\n",
    "     Örnek bir matris:\n",
    "     $\n",
    "     A = \\begin{bmatrix}\n",
    "       1 & 2 & 3 \\\\\n",
    "       4 & 5 & 6 \\\\\n",
    "       7 & 8 & 9 \\\\\n",
    "     \\end{bmatrix}\n",
    "     $\n",
    "\n",
    "3. **Vektörler:**\n",
    "   - Bir vektör, matematiksel bir nesnenin belirli bir yönde ve uzunlukta bir büyüklük taşıyan bir niceliktir. Bir vektör, bir dizi veya listede bulunan elemanlar şeklinde temsil edilebilir.\n",
    "\n",
    "     Örnek bir vektör:\n",
    "   $\n",
    "     v = \\begin{bmatrix}\n",
    "       2 \\\\\n",
    "       -1 \\\\\n",
    "       3 \\\\\n",
    "     \\end{bmatrix}\n",
    "   $\n",
    "\n",
    "4. **Tensörler:**\n",
    "   - Tensör, matematikte genelleştirilmiş bir matris veya dizi türüdür. Bir skalar (0. dereceden bir tensör), bir vektör (1. dereceden bir tensör) veya bir matris (2. dereceden bir tensör) gibi daha düşük dereceden tensörlerin genelleştirmesidir. Derin öğrenme ve yapay zeka alanlarında özellikle çok boyutlu veri setlerini temsil etmek için kullanılır.\n",
    "\n",
    "     Örnek bir 3. dereceden tensör:\n",
    "     \n",
    "     T =\n",
    "     $\n",
    "     \\begin{bmatrix}\n",
    "       \\begin{bmatrix}\n",
    "         [1 & 2] \\\\\n",
    "         [3 & 4] \\\\\n",
    "       \\end{bmatrix}\n",
    "       &\n",
    "       \\begin{bmatrix}\n",
    "         [5 & 6] \\\\\n",
    "         [7 & 8] \\\\\n",
    "       \\end{bmatrix}\n",
    "       \\\\\n",
    "       \\begin{bmatrix}\n",
    "         [9 & 10] \\\\\n",
    "         [11 & 12] \\\\\n",
    "       \\end{bmatrix}\n",
    "       &\n",
    "       \\begin{bmatrix}\n",
    "         [13 & 14] \\\\\n",
    "         [15 & 16] \\\\\n",
    "       \\end{bmatrix}\n",
    "     \\end{bmatrix}\n",
    "     $\n",
    "\n",
    "![veri turleri](../assets/veri_türleri.png)\n",
    "\n",
    "# Bulanik Mantik\n",
    "**Giriş:** Yapay zekâ bulanık mantık sistemlerinde ilk olarak veri girişi yapılır. Böylece bulanık mantık\n",
    "sistemi çalışmaya başlar.  \n",
    "**Bulanıklaştırıcı:** Bulanık mantık sistemine girilen verileri 0 ile 1 arasındaki bulanık değerlere\n",
    "dönüştürür.  \n",
    "**Kurallar:** Bulanıklaştırma işlemi sırasındaki çıkarım kuralları belirlenir.  \n",
    "**Çıkarım:** Bulanık kuralları kullanarak bulanık giriş değerleri için bulanık sonuçlar çıkarır.  \n",
    "**Durulaştırıcı:** Çıkarımdan elde edilen sonuçları istenilen gerçek değerlere dönüştürür.  \n",
    "**Çıkış:** Bulanık mantık sisteminden elde edilen çıkış verisidir.  \n",
    "\n",
    "![bulanık mantık sistemi](../assets/bulanık_sistemi.png)"
   ]
  },
  {
   "cell_type": "markdown",
   "id": "09fb568f-4438-459b-96d4-75021ed22951",
   "metadata": {},
   "source": [
    "```python\n",
    "import numpy as mat\n",
    "import skfuzzy as bulanik\n",
    "from skfuzzy import control as kontrol\n",
    "\n",
    "yaya_sayisi = kontrol.Antecedent(mat.arange(1, 31, 1), 'yaya sayısı')\n",
    "bekleme_suresi = kontrol.Consequent(mat.arange(1, 61, 1), 'geçiş zamanı')\n",
    "\n",
    "yaya_sayisi.automf(3)\n",
    "bekleme_suresi.automf(3)\n",
    "\n",
    "kural1 = kontrol.Rule(yaya_sayisi['poor'] , bekleme_suresi['poor'])\n",
    "kural2 = kontrol.Rule(yaya_sayisi['average'], bekleme_suresi['average'])\n",
    "kural3 = kontrol.Rule(yaya_sayisi['good'] , bekleme_suresi['good'])\n",
    "\n",
    "kontrol_sure = kontrol.ControlSystem([kural1, kural2, kural3])\n",
    "sure = kontrol.ControlSystemSimulation(kontrol_sure)\n",
    "\n",
    "sure.input['yaya sayısı'] = 10\n",
    "sure.compute()\n",
    "print (sure.output['geçiş zamanı'])\n",
    "bekleme_suresi.view(sim=sure)\n",
    "```\n",
    "\n",
    "\n",
    "1. `import numpy as mat`: NumPy kütüphanesini \"mat\" takma adıyla içe aktarır.\n",
    "\n",
    "2. `import skfuzzy as bulanik`: \"skfuzzy\" kütüphanesini \"bulanik\" takma adıyla içe aktarır.\n",
    "\n",
    "3. `from skfuzzy import control as kontrol`: \"skfuzzy\" kütüphanesinden \"control\" modülünü içe aktarır ve \"kontrol\" takma adını kullanır.\n",
    "\n",
    "4. `yaya_sayisi = kontrol.Antecedent(mat.arange(1, 31, 1), 'yaya sayısı')`: \"yaya_sayisi\" adında bir antecedent (giriş) bulanık değişken oluşturur. Bu değişken, 1 ile 30 arasındaki yaya sayısını temsil eder.\n",
    "\n",
    "5. `bekleme_suresi = kontrol.Consequent(mat.arange(1, 61, 1), 'geçiş zamanı')`: \"bekleme_suresi\" adında bir consequent (çıkış) bulanık değişken oluşturur. Bu değişken, 1 ile 60 arasındaki geçiş zamanını temsil eder.\n",
    "\n",
    "6. `yaya_sayisi.automf(3)`: \"yaya_sayisi\" değişkenine üç adet otomatik üyelik fonksiyonu (poor, average, good) atar.\n",
    "\n",
    "7. `bekleme_suresi.automf(3)`: \"bekleme_suresi\" değişkenine üç adet otomatik üyelik fonksiyonu atar.\n",
    "\n",
    "8. `kural1 = kontrol.Rule(yaya_sayisi['poor'] , bekleme_suresi['poor'])`: Birinci kuralı oluşturur: Eğer \"yaya_sayisi\" poor (düşük) ise, \"bekleme_suresi\" de poor (düşük) olacaktır.\n",
    "\n",
    "9. `kural2 = kontrol.Rule(yaya_sayisi['average'], bekleme_suresi['average'])`: İkinci kuralı oluşturur: Eğer \"yaya_sayisi\" average (orta) ise, \"bekleme_suresi\" de average (orta) olacaktır.\n",
    "\n",
    "10. `kural3 = kontrol.Rule(yaya_sayisi['good'] , bekleme_suresi['good'])`: Üçüncü kuralı oluşturur: Eğer \"yaya_sayisi\" good (iyi) ise, \"bekleme_suresi\" de good (iyi) olacaktır.\n",
    "\n",
    "11. `kontrol_sure = kontrol.ControlSystem([kural1, kural2, kural3])`: Kontrol sistemini oluşturur ve kural kümesini içine ekler.\n",
    "\n",
    "12. `sure = kontrol.ControlSystemSimulation(kontrol_sure)`: Kontrol sistemini simüle eden bir nesne oluşturur.\n",
    "\n",
    "13. `sure.input['yaya sayısı'] = 10`: Giriş değişkenine bir değer atar.\n",
    "\n",
    "14. `sure.compute()`: Kontrol sistemini hesaplar.\n",
    "\n",
    "15. `print(sure.output['geçiş zamanı'])`: Çıkış değişkeninin değerini ekrana yazdırır.\n",
    "\n",
    "16. `bekleme_suresi.view(sim=sure)`: Çıkış değişkeninin bulanık çıktısını görselleştirir. Bu, bulanık mantık üyelik fonksiyonlarının ve çıkışın nasıl belirlendiğini gösterir.\n",
    "\n",
    "Bu kod, belirli bir yaya sayısına göre geçiş süresini tahmin etmek için basit bir bulanık mantık kontrol sistemini kullanır. Bu, trafik kontrol sistemlerinde veya benzer senaryolarda kullanılabilecek bir örnek uygulamadır."
   ]
  },
  {
   "cell_type": "code",
   "execution_count": 22,
   "id": "d1d95288-af64-4613-aea5-8f3a84367742",
   "metadata": {},
   "outputs": [],
   "source": [
    "import numpy as mat\n",
    "import skfuzzy as bulanik\n",
    "from skfuzzy import control as kontrol\n",
    "\n",
    "yaya_sayisi = kontrol.Antecedent(mat.arange(1, 31, 1), 'yaya sayısı')\n",
    "bekleme_suresi = kontrol.Consequent(mat.arange(1, 61, 1), 'geçiş zamanı')\n",
    "\n",
    "yaya_sayisi.automf(3)\n",
    "bekleme_suresi.automf(3)"
   ]
  },
  {
   "cell_type": "code",
   "execution_count": 23,
   "id": "5aad6036-8d65-4f8d-90e2-87a33a899d04",
   "metadata": {},
   "outputs": [
    {
     "data": {
      "image/png": "[encoded data removed]",
      "text/plain": [
       "<Figure size 640x480 with 1 Axes>"
      ]
     },
     "metadata": {},
     "output_type": "display_data"
    }
   ],
   "source": [
    "yaya_sayisi.view()"
   ]
  },
  {
   "cell_type": "code",
   "execution_count": 24,
   "id": "c1028440-3533-4de8-a4c4-c5c4c381361b",
   "metadata": {},
   "outputs": [
    {
     "name": "stderr",
     "output_type": "stream",
     "text": [
      "/home/muhammet/.venv/lib/python3.11/site-packages/skfuzzy/control/fuzzyvariable.py:122: UserWarning: FigureCanvasAgg is non-interactive, and thus cannot be shown\n",
      "  fig.show()\n"
     ]
    },
    {
     "data": {
      "image/png": "[encoded data removed]",
      "text/plain": [
       "<Figure size 640x480 with 1 Axes>"
      ]
     },
     "metadata": {},
     "output_type": "display_data"
    }
   ],
   "source": [
    "bekleme_suresi.view()"
   ]
  },
  {
   "cell_type": "code",
   "execution_count": 25,
   "id": "9c1d8086-1c2e-4843-b30c-954167433826",
   "metadata": {},
   "outputs": [
    {
     "name": "stdout",
     "output_type": "stream",
     "text": [
      "28.500912404617672\n"
     ]
    },
    {
     "data": {
      "image/png": "[encoded data removed]",
      "text/plain": [
       "<Figure size 640x480 with 1 Axes>"
      ]
     },
     "metadata": {},
     "output_type": "display_data"
    }
   ],
   "source": [
    "kural1 = kontrol.Rule(yaya_sayisi['poor'] , bekleme_suresi['poor'])\n",
    "kural2 = kontrol.Rule(yaya_sayisi['average'], bekleme_suresi['average'])\n",
    "kural3 = kontrol.Rule(yaya_sayisi['good'] , bekleme_suresi['good'])\n",
    "\n",
    "kontrol_sure = kontrol.ControlSystem([kural1, kural2, kural3])\n",
    "sure = kontrol.ControlSystemSimulation(kontrol_sure)\n",
    "\n",
    "sure.input['yaya sayısı'] = 10\n",
    "sure.compute()\n",
    "print (sure.output['geçiş zamanı'])\n",
    "bekleme_suresi.view(sim=sure)"
   ]
  }
 ],
 "metadata": {
  "kernelspec": {
   "display_name": "Python 3 (ipykernel)",
   "language": "python",
   "name": "python3"
  },
  "language_info": {
   "codemirror_mode": {
    "name": "ipython",
    "version": 3
   },
   "file_extension": ".py",
   "mimetype": "text/x-python",
   "name": "python",
   "nbconvert_exporter": "python",
   "pygments_lexer": "ipython3",
   "version": "3.11.6"
  }
 },
 "nbformat": 4,
 "nbformat_minor": 5
}
