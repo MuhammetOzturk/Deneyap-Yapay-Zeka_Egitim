{
 "cells": [
  {
   "cell_type": "markdown",
   "id": "a5b15c7f-12f6-4e64-bb31-a336f87e92d6",
   "metadata": {},
   "source": [
    "# Yapay Zekada Veri Modelleme\n",
    "\n",
    "Yapay zekâda problemin modellemesinde kullanılan birçok otomatik karar verme mekanizması\n",
    "vardır. Yapay zekâ modelleri ile veri girişi sağlandığında uzman bir kişinin vereceği kararı\n",
    "\"eğitilmiş\" matematiksel algoritmalar yapar. Ayrıca yapay zekâ modelleri karar sürecinin\n",
    "yorumlanmasına yardımcı olurlar. Yapay zekâ modelleri, sistemin en doğru karar vermesi veya\n",
    "maliyeti en aza indirmesi için büyük miktarda veriyi işlemektedir. Farklı ortamlardan gelen verileri\n",
    "analiz eden yapay zekâ modeli tüm verileri gözden geçirerek uzmanlardan oluşan bir ekibin\n",
    "yapacağı belirli bir karar sürecini tek başına gerçekleştirir. Şekil 1.2’de gösterildiği gibi yapay zekâ\n",
    "modellemesi veri akışı şöyledir:"
   ]
  },
  {
   "cell_type": "markdown",
   "id": "86e2c96f-36b3-4d2d-86aa-92b926d5af53",
   "metadata": {},
   "source": [
    "![veri modelleme](../assets/veri_modelleme.png)"
   ]
  },
  {
   "cell_type": "markdown",
   "id": "871f4187-67f3-4ba3-ac32-8eb8df8cb604",
   "metadata": {},
   "source": [
    "**Problem:** Öğrenciler yapay zekâ çözümleri için problemin sınıflandırma, regresyon veya\n",
    "kümeleme türünü belirler. Örneğin kedi ve köpek verilerinden oluşan veri setinin\n",
    "sınıflandırma problemi olduğunu, yaya sayısına göre trafik ışıklarının süresinin\n",
    "belirlenmesinin bir regresyon problemi olduğunu analiz eder.  \n",
    "**Veri Toplama:** Öğrenciler problemin çözümü ile ilgili açık erişimli internet sitelerinde yer\n",
    "alan (Kaggle, Github vs.) veya kendi toplamış oldukları verileri bir araya getirir.\n",
    "Veri Önişleme: Bu aşamada, toplanan veriler üzerinde eksik verileri tamamlama, anlamsız\n",
    "verileri çıkarma gibi veri önişleme aşamaları gerçekleştirilerek yapay zekâda oluşabilecek\n",
    "problemlerin önlenmesi sağlanır.  \n",
    "**Eğitim:** Veri önişleme sonrasında anlamlandırılan verilerden eğitim için ayrılan verileri\n",
    "yapay zekâ modelleri ile eğitir.  \n",
    "**Test:** Eğitilen modellerin doğruluğu test verileri ile değerlendirilerek anlamlı sonuçlar elde\n",
    "edilmeye çalışılır.  \n",
    "**Sonuç:** Test edilen veriler üzerinde en doğru sonuç veren modeli seçer."
   ]
  },
  {
   "cell_type": "markdown",
   "id": "770b9a7f-b7bb-4ce9-8d17-7ff19614ffdc",
   "metadata": {},
   "source": [
    "## Temel Kütüphaneler\n",
    "**Numpy:** Hesaplama işlemleri, diziler ve diziler üzerinde hızlı işlemler yapılabilmesi için kullanılan\n",
    "önemli kütüphanelerden birisidir  \n",
    "**Matplotlib:** Görüntüleri yüksek kalitede gösterebilmek için kullanılan bir çizim kütüphanesidir  \n",
    "**Scikit-Learn:** Makine öğrenme modelleri oluşturmak için kullanılan bir kütüphanedir. Regresyon\n",
    "(tahminleme), kümeleme ve sınıflandırma için kullanılan pek çok öğrenme algoritmasına sahiptir  \n",
    "**TensorFlow:** Google tarafından geliştirilen açık kaynaklı kodlu bir derin öğrenme kütüphanesidir  \n",
    "**Keras:** Derin sinir ağları ile hızlı eğitim yapabilmek için tasarlanan açık kaynak kodlu bir sinir ağı\n",
    "kütüphanesidir  \n",
    "**Pandas:** Tablosal veri işlemesi ve analizi için kullanılan Python temel kütüphanesidir  \n",
    "**Pillow:** Görüntü işleme için kullanılan Python temel kütüphanesidir  \n"
   ]
  },
  {
   "cell_type": "markdown",
   "id": "f9ff6626-90c7-41c4-9eb6-5b805a2ce39f",
   "metadata": {},
   "source": [
    "![cahit arf](../assets/arf.png)"
   ]
  },
  {
   "cell_type": "markdown",
   "id": "6332a7a5-7e44-4b75-b614-8d70b988489f",
   "metadata": {},
   "source": [
    "# Python ile Yapay Zekâ Veri İşleme\n",
    "Yapay zekâda veri işleme hem makine öğrenmesi hem de derin öğrenme modellerinden doğru bir biçimde  \n",
    "yararlanmak için kullanılan bir tekniktir. Makine öğrenimi yapay zekânın bir alt kümesidir,  \n",
    "bilgisayarların verilerden anlamlı sonuçlar elde edilmesini sağlayan önemli tekniklerden birisidir. Derin  \n",
    "öğrenme ise, beyindeki sinir ağlarını örnek alarak çalışan karmaşık sorunların çözülmesini sağlayan  \n",
    "makine öğreniminin alt kümesidir. Yapay zekâda toplanan veriler üzerinde; eksiklik, gürültü (yanlış veri) ve  \n",
    "tutarsızlık gibi farklı nedenlerden dolayı veri işleme problemleri yaşanabilir. Şekil 1.13’te gösterildiği gibi  \n",
    "yapay zekâ veri işleme aşamaları şu şekilde sıralanmaktadır:  \n",
    "\n",
    "**Eksik Verileri Tamamlama:** Yapay zekâ veri işleme sürecinde ilk aşamada toplanan verilerdeki eksik  \n",
    "değerler bulunur. Eksik verileri tamamlamak için öznitelik oluşturma, sınıflandırma, ölçeklendirme-  \n",
    "normalize etme ve uç verileri tespit etme yöntemleri kullanılır. \n",
    "\n",
    "**Veri Bölme:** Yapay zekâda veriler eğitim ve test olmak üzere ikiye ayrılır. Eğitim verisi, modelin eğitildiği  \n",
    "verileri, test verisi ise modelin eğitilmeyen veriler üzerindeki sonuçlarını görmek için kullanılır.  \n",
    "\n",
    "**Modelin Eğitilmesi:** Yapay zekânın doğru bir tahmin yapabilmesi için temizlenmiş verilerin eğitilmesi  \n",
    "gerekir.  \n",
    "\n",
    "**Modelin Testi ve Doğrulanması:** Test verileri ile eğitilen model doğrulanarak yapay zekâ modeli\n",
    "değerlendirilir."
   ]
  },
  {
   "cell_type": "markdown",
   "id": "122bf01e-f5f7-4c25-a9e8-71d16e778673",
   "metadata": {},
   "source": [
    "Örnek:https://teachablemachine.withgoogle.com/"
   ]
  },
  {
   "cell_type": "markdown",
   "id": "acd511ea-063e-4151-bf94-09bbfa401a7d",
   "metadata": {},
   "source": [
    "---\n",
    "# İris çiçeği\n",
    "\n",
    "![iris](../assets/iris.png)\n",
    "![iris_table.png](../assets/iris_table.png)"
   ]
  },
  {
   "cell_type": "code",
   "execution_count": null,
   "id": "27f36b5c-3bb4-4557-a38e-b8cf52456477",
   "metadata": {},
   "outputs": [],
   "source": []
  }
 ],
 "metadata": {
  "kernelspec": {
   "display_name": "Python 3 (ipykernel)",
   "language": "python",
   "name": "python3"
  },
  "language_info": {
   "codemirror_mode": {
    "name": "ipython",
    "version": 3
   },
   "file_extension": ".py",
   "mimetype": "text/x-python",
   "name": "python",
   "nbconvert_exporter": "python",
   "pygments_lexer": "ipython3",
   "version": "3.11.6"
  }
 },
 "nbformat": 4,
 "nbformat_minor": 5
}
