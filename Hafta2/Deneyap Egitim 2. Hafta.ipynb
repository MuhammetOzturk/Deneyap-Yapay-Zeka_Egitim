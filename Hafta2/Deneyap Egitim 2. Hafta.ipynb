{
 "cells": [
  {
   "cell_type": "markdown",
   "id": "a5b15c7f-12f6-4e64-bb31-a336f87e92d6",
   "metadata": {},
   "source": [
    "# Yapay Zekada Veri Modelleme\n",
    "\n",
    "Yapay zekâda problemin modellemesinde kullanılan birçok otomatik karar verme mekanizması\n",
    "vardır. Yapay zekâ modelleri ile veri girişi sağlandığında uzman bir kişinin vereceği kararı\n",
    "\"eğitilmiş\" matematiksel algoritmalar yapar. Ayrıca yapay zekâ modelleri karar sürecinin\n",
    "yorumlanmasına yardımcı olurlar. Yapay zekâ modelleri, sistemin en doğru karar vermesi veya\n",
    "maliyeti en aza indirmesi için büyük miktarda veriyi işlemektedir. Farklı ortamlardan gelen verileri\n",
    "analiz eden yapay zekâ modeli tüm verileri gözden geçirerek uzmanlardan oluşan bir ekibin\n",
    "yapacağı belirli bir karar sürecini tek başına gerçekleştirir. Şekil 1.2’de gösterildiği gibi yapay zekâ\n",
    "modellemesi veri akışı şöyledir:"
   ]
  },
  {
   "cell_type": "markdown",
   "id": "86e2c96f-36b3-4d2d-86aa-92b926d5af53",
   "metadata": {},
   "source": [
    "![veri modelleme](../assets/veri_modelleme.png)"
   ]
  },
  {
   "cell_type": "markdown",
   "id": "871f4187-67f3-4ba3-ac32-8eb8df8cb604",
   "metadata": {},
   "source": [
    "**Problem:** Öğrenciler yapay zekâ çözümleri için problemin sınıflandırma, regresyon veya\n",
    "kümeleme türünü belirler. Örneğin kedi ve köpek verilerinden oluşan veri setinin\n",
    "sınıflandırma problemi olduğunu, yaya sayısına göre trafik ışıklarının süresinin\n",
    "belirlenmesinin bir regresyon problemi olduğunu analiz eder.  \n",
    "**Veri Toplama:** Öğrenciler problemin çözümü ile ilgili açık erişimli internet sitelerinde yer\n",
    "alan (Kaggle, Github vs.) veya kendi toplamış oldukları verileri bir araya getirir.\n",
    "Veri Önişleme: Bu aşamada, toplanan veriler üzerinde eksik verileri tamamlama, anlamsız\n",
    "verileri çıkarma gibi veri önişleme aşamaları gerçekleştirilerek yapay zekâda oluşabilecek\n",
    "problemlerin önlenmesi sağlanır.  \n",
    "**Eğitim:** Veri önişleme sonrasında anlamlandırılan verilerden eğitim için ayrılan verileri\n",
    "yapay zekâ modelleri ile eğitir.  \n",
    "**Test:** Eğitilen modellerin doğruluğu test verileri ile değerlendirilerek anlamlı sonuçlar elde\n",
    "edilmeye çalışılır.  \n",
    "**Sonuç:** Test edilen veriler üzerinde en doğru sonuç veren modeli seçer."
   ]
  },
  {
   "cell_type": "markdown",
   "id": "770b9a7f-b7bb-4ce9-8d17-7ff19614ffdc",
   "metadata": {},
   "source": [
    "## Temel Kütüphaneler\n",
    "**Numpy:** Hesaplama işlemleri, diziler ve diziler üzerinde hızlı işlemler yapılabilmesi için kullanılan\n",
    "önemli kütüphanelerden birisidir  \n",
    "**Matplotlib:** Görüntüleri yüksek kalitede gösterebilmek için kullanılan bir çizim kütüphanesidir  \n",
    "**Scikit-Learn:** Makine öğrenme modelleri oluşturmak için kullanılan bir kütüphanedir. Regresyon\n",
    "(tahminleme), kümeleme ve sınıflandırma için kullanılan pek çok öğrenme algoritmasına sahiptir  \n",
    "**TensorFlow:** Google tarafından geliştirilen açık kaynaklı kodlu bir derin öğrenme kütüphanesidir  \n",
    "**Keras:** Derin sinir ağları ile hızlı eğitim yapabilmek için tasarlanan açık kaynak kodlu bir sinir ağı\n",
    "kütüphanesidir  \n",
    "**Pandas:** Tablosal veri işlemesi ve analizi için kullanılan Python temel kütüphanesidir  \n",
    "**Pillow:** Görüntü işleme için kullanılan Python temel kütüphanesidir  \n"
   ]
  },
  {
   "cell_type": "markdown",
   "id": "f9ff6626-90c7-41c4-9eb6-5b805a2ce39f",
   "metadata": {},
   "source": [
    "![cahit arf](../assets/arf.png)"
   ]
  },
  {
   "cell_type": "markdown",
   "id": "6332a7a5-7e44-4b75-b614-8d70b988489f",
   "metadata": {},
   "source": [
    "# Python ile Yapay Zekâ Veri İşleme\n",
    "Yapay zekâda veri işleme hem makine öğrenmesi hem de derin öğrenme modellerinden doğru bir biçimde  \n",
    "yararlanmak için kullanılan bir tekniktir. Makine öğrenimi yapay zekânın bir alt kümesidir,  \n",
    "bilgisayarların verilerden anlamlı sonuçlar elde edilmesini sağlayan önemli tekniklerden birisidir. Derin  \n",
    "öğrenme ise, beyindeki sinir ağlarını örnek alarak çalışan karmaşık sorunların çözülmesini sağlayan  \n",
    "makine öğreniminin alt kümesidir. Yapay zekâda toplanan veriler üzerinde; eksiklik, gürültü (yanlış veri) ve  \n",
    "tutarsızlık gibi farklı nedenlerden dolayı veri işleme problemleri yaşanabilir. Şekil 1.13’te gösterildiği gibi  \n",
    "yapay zekâ veri işleme aşamaları şu şekilde sıralanmaktadır:  \n",
    "\n",
    "**Eksik Verileri Tamamlama:** Yapay zekâ veri işleme sürecinde ilk aşamada toplanan verilerdeki eksik  \n",
    "değerler bulunur. Eksik verileri tamamlamak için öznitelik oluşturma, sınıflandırma, ölçeklendirme-  \n",
    "normalize etme ve uç verileri tespit etme yöntemleri kullanılır. \n",
    "\n",
    "**Veri Bölme:** Yapay zekâda veriler eğitim ve test olmak üzere ikiye ayrılır. Eğitim verisi, modelin eğitildiği  \n",
    "verileri, test verisi ise modelin eğitilmeyen veriler üzerindeki sonuçlarını görmek için kullanılır.  \n",
    "\n",
    "**Modelin Eğitilmesi:** Yapay zekânın doğru bir tahmin yapabilmesi için temizlenmiş verilerin eğitilmesi  \n",
    "gerekir.  \n",
    "\n",
    "**Modelin Testi ve Doğrulanması:** Test verileri ile eğitilen model doğrulanarak yapay zekâ modeli\n",
    "değerlendirilir."
   ]
  },
  {
   "cell_type": "markdown",
   "id": "122bf01e-f5f7-4c25-a9e8-71d16e778673",
   "metadata": {},
   "source": [
    "Örnek:https://teachablemachine.withgoogle.com/"
   ]
  },
  {
   "cell_type": "markdown",
   "id": "acd511ea-063e-4151-bf94-09bbfa401a7d",
   "metadata": {},
   "source": [
    "---\n",
    "# İris çiçeği\n",
    "\n",
    "![iris](../assets/iris.png)\n",
    "![iris_table.png](../assets/iris_table.png)"
   ]
  },
  {
   "cell_type": "code",
   "execution_count": 3,
   "id": "7fa0d486-4539-48c8-afa7-3ae9cc571fc0",
   "metadata": {},
   "outputs": [
    {
     "data": {
      "text/html": [
       "<div>\n",
       "<style scoped>\n",
       "    .dataframe tbody tr th:only-of-type {\n",
       "        vertical-align: middle;\n",
       "    }\n",
       "\n",
       "    .dataframe tbody tr th {\n",
       "        vertical-align: top;\n",
       "    }\n",
       "\n",
       "    .dataframe thead th {\n",
       "        text-align: right;\n",
       "    }\n",
       "</style>\n",
       "<table border=\"1\" class=\"dataframe\">\n",
       "  <thead>\n",
       "    <tr style=\"text-align: right;\">\n",
       "      <th></th>\n",
       "      <th>Alt Yapark uzunluğu (cm)</th>\n",
       "      <th>Alt Yapark genişliği (cm)</th>\n",
       "      <th>Üst Yapark uzunluğu (cm)</th>\n",
       "      <th>Üst Yapark genişliği (cm)</th>\n",
       "      <th>Sınıf</th>\n",
       "    </tr>\n",
       "  </thead>\n",
       "  <tbody>\n",
       "    <tr>\n",
       "      <th>0</th>\n",
       "      <td>5.1</td>\n",
       "      <td>3.5</td>\n",
       "      <td>1.4</td>\n",
       "      <td>0.2</td>\n",
       "      <td>setosa</td>\n",
       "    </tr>\n",
       "    <tr>\n",
       "      <th>1</th>\n",
       "      <td>4.9</td>\n",
       "      <td>3.0</td>\n",
       "      <td>1.4</td>\n",
       "      <td>0.2</td>\n",
       "      <td>setosa</td>\n",
       "    </tr>\n",
       "    <tr>\n",
       "      <th>2</th>\n",
       "      <td>4.7</td>\n",
       "      <td>3.2</td>\n",
       "      <td>1.3</td>\n",
       "      <td>0.2</td>\n",
       "      <td>setosa</td>\n",
       "    </tr>\n",
       "    <tr>\n",
       "      <th>3</th>\n",
       "      <td>4.6</td>\n",
       "      <td>3.1</td>\n",
       "      <td>1.5</td>\n",
       "      <td>0.2</td>\n",
       "      <td>setosa</td>\n",
       "    </tr>\n",
       "    <tr>\n",
       "      <th>4</th>\n",
       "      <td>5.0</td>\n",
       "      <td>3.6</td>\n",
       "      <td>1.4</td>\n",
       "      <td>0.2</td>\n",
       "      <td>setosa</td>\n",
       "    </tr>\n",
       "    <tr>\n",
       "      <th>...</th>\n",
       "      <td>...</td>\n",
       "      <td>...</td>\n",
       "      <td>...</td>\n",
       "      <td>...</td>\n",
       "      <td>...</td>\n",
       "    </tr>\n",
       "    <tr>\n",
       "      <th>145</th>\n",
       "      <td>6.7</td>\n",
       "      <td>3.0</td>\n",
       "      <td>5.2</td>\n",
       "      <td>2.3</td>\n",
       "      <td>virginica</td>\n",
       "    </tr>\n",
       "    <tr>\n",
       "      <th>146</th>\n",
       "      <td>6.3</td>\n",
       "      <td>2.5</td>\n",
       "      <td>5.0</td>\n",
       "      <td>1.9</td>\n",
       "      <td>virginica</td>\n",
       "    </tr>\n",
       "    <tr>\n",
       "      <th>147</th>\n",
       "      <td>6.5</td>\n",
       "      <td>3.0</td>\n",
       "      <td>5.2</td>\n",
       "      <td>2.0</td>\n",
       "      <td>virginica</td>\n",
       "    </tr>\n",
       "    <tr>\n",
       "      <th>148</th>\n",
       "      <td>6.2</td>\n",
       "      <td>3.4</td>\n",
       "      <td>5.4</td>\n",
       "      <td>2.3</td>\n",
       "      <td>virginica</td>\n",
       "    </tr>\n",
       "    <tr>\n",
       "      <th>149</th>\n",
       "      <td>5.9</td>\n",
       "      <td>3.0</td>\n",
       "      <td>5.1</td>\n",
       "      <td>1.8</td>\n",
       "      <td>virginica</td>\n",
       "    </tr>\n",
       "  </tbody>\n",
       "</table>\n",
       "<p>150 rows × 5 columns</p>\n",
       "</div>"
      ],
      "text/plain": [
       "     Alt Yapark uzunluğu (cm)  Alt Yapark genişliği (cm)  \\\n",
       "0                         5.1                        3.5   \n",
       "1                         4.9                        3.0   \n",
       "2                         4.7                        3.2   \n",
       "3                         4.6                        3.1   \n",
       "4                         5.0                        3.6   \n",
       "..                        ...                        ...   \n",
       "145                       6.7                        3.0   \n",
       "146                       6.3                        2.5   \n",
       "147                       6.5                        3.0   \n",
       "148                       6.2                        3.4   \n",
       "149                       5.9                        3.0   \n",
       "\n",
       "     Üst Yapark uzunluğu (cm)  Üst Yapark genişliği (cm)       Sınıf  \n",
       "0                         1.4                        0.2      setosa  \n",
       "1                         1.4                        0.2      setosa  \n",
       "2                         1.3                        0.2      setosa  \n",
       "3                         1.5                        0.2      setosa  \n",
       "4                         1.4                        0.2      setosa  \n",
       "..                        ...                        ...         ...  \n",
       "145                       5.2                        2.3   virginica  \n",
       "146                       5.0                        1.9   virginica  \n",
       "147                       5.2                        2.0   virginica  \n",
       "148                       5.4                        2.3   virginica  \n",
       "149                       5.1                        1.8   virginica  \n",
       "\n",
       "[150 rows x 5 columns]"
      ]
     },
     "execution_count": 3,
     "metadata": {},
     "output_type": "execute_result"
    }
   ],
   "source": [
    "import pandas as pd\n",
    "pd.read_excel(\"../data/iris.xls\")"
   ]
  },
  {
   "cell_type": "markdown",
   "id": "eb8ebb42-5687-45d1-8a8e-d7da7533e7c9",
   "metadata": {},
   "source": [
    "Birden çok değer alan ve değişim gösteren her şeye “değişken” adı verilir. Yapay\n",
    "zekâda sonuca etki eden değişkene **“bağımsız değişken”**, başka bir değişkene bağlı olan yani\n",
    "etkilenen değişkene **“bağımlı değişken”** denir. Daha sonra bağımlı/bağımsız hedef değişkenin\n",
    "değeri kategorik sınıftan sayısala çevrilmiştir."
   ]
  },
  {
   "cell_type": "code",
   "execution_count": 7,
   "id": "7873ffac-c03c-4d0b-926f-3529bc3756ba",
   "metadata": {},
   "outputs": [
    {
     "data": {
      "text/plain": [
       "{'data': array([[5.1, 3.5, 1.4, 0.2],\n",
       "        [4.9, 3. , 1.4, 0.2],\n",
       "        [4.7, 3.2, 1.3, 0.2],\n",
       "        [4.6, 3.1, 1.5, 0.2],\n",
       "        [5. , 3.6, 1.4, 0.2],\n",
       "        [5.4, 3.9, 1.7, 0.4],\n",
       "        [4.6, 3.4, 1.4, 0.3],\n",
       "        [5. , 3.4, 1.5, 0.2],\n",
       "        [4.4, 2.9, 1.4, 0.2],\n",
       "        [4.9, 3.1, 1.5, 0.1],\n",
       "        [5.4, 3.7, 1.5, 0.2],\n",
       "        [4.8, 3.4, 1.6, 0.2],\n",
       "        [4.8, 3. , 1.4, 0.1],\n",
       "        [4.3, 3. , 1.1, 0.1],\n",
       "        [5.8, 4. , 1.2, 0.2],\n",
       "        [5.7, 4.4, 1.5, 0.4],\n",
       "        [5.4, 3.9, 1.3, 0.4],\n",
       "        [5.1, 3.5, 1.4, 0.3],\n",
       "        [5.7, 3.8, 1.7, 0.3],\n",
       "        [5.1, 3.8, 1.5, 0.3],\n",
       "        [5.4, 3.4, 1.7, 0.2],\n",
       "        [5.1, 3.7, 1.5, 0.4],\n",
       "        [4.6, 3.6, 1. , 0.2],\n",
       "        [5.1, 3.3, 1.7, 0.5],\n",
       "        [4.8, 3.4, 1.9, 0.2],\n",
       "        [5. , 3. , 1.6, 0.2],\n",
       "        [5. , 3.4, 1.6, 0.4],\n",
       "        [5.2, 3.5, 1.5, 0.2],\n",
       "        [5.2, 3.4, 1.4, 0.2],\n",
       "        [4.7, 3.2, 1.6, 0.2],\n",
       "        [4.8, 3.1, 1.6, 0.2],\n",
       "        [5.4, 3.4, 1.5, 0.4],\n",
       "        [5.2, 4.1, 1.5, 0.1],\n",
       "        [5.5, 4.2, 1.4, 0.2],\n",
       "        [4.9, 3.1, 1.5, 0.2],\n",
       "        [5. , 3.2, 1.2, 0.2],\n",
       "        [5.5, 3.5, 1.3, 0.2],\n",
       "        [4.9, 3.6, 1.4, 0.1],\n",
       "        [4.4, 3. , 1.3, 0.2],\n",
       "        [5.1, 3.4, 1.5, 0.2],\n",
       "        [5. , 3.5, 1.3, 0.3],\n",
       "        [4.5, 2.3, 1.3, 0.3],\n",
       "        [4.4, 3.2, 1.3, 0.2],\n",
       "        [5. , 3.5, 1.6, 0.6],\n",
       "        [5.1, 3.8, 1.9, 0.4],\n",
       "        [4.8, 3. , 1.4, 0.3],\n",
       "        [5.1, 3.8, 1.6, 0.2],\n",
       "        [4.6, 3.2, 1.4, 0.2],\n",
       "        [5.3, 3.7, 1.5, 0.2],\n",
       "        [5. , 3.3, 1.4, 0.2],\n",
       "        [7. , 3.2, 4.7, 1.4],\n",
       "        [6.4, 3.2, 4.5, 1.5],\n",
       "        [6.9, 3.1, 4.9, 1.5],\n",
       "        [5.5, 2.3, 4. , 1.3],\n",
       "        [6.5, 2.8, 4.6, 1.5],\n",
       "        [5.7, 2.8, 4.5, 1.3],\n",
       "        [6.3, 3.3, 4.7, 1.6],\n",
       "        [4.9, 2.4, 3.3, 1. ],\n",
       "        [6.6, 2.9, 4.6, 1.3],\n",
       "        [5.2, 2.7, 3.9, 1.4],\n",
       "        [5. , 2. , 3.5, 1. ],\n",
       "        [5.9, 3. , 4.2, 1.5],\n",
       "        [6. , 2.2, 4. , 1. ],\n",
       "        [6.1, 2.9, 4.7, 1.4],\n",
       "        [5.6, 2.9, 3.6, 1.3],\n",
       "        [6.7, 3.1, 4.4, 1.4],\n",
       "        [5.6, 3. , 4.5, 1.5],\n",
       "        [5.8, 2.7, 4.1, 1. ],\n",
       "        [6.2, 2.2, 4.5, 1.5],\n",
       "        [5.6, 2.5, 3.9, 1.1],\n",
       "        [5.9, 3.2, 4.8, 1.8],\n",
       "        [6.1, 2.8, 4. , 1.3],\n",
       "        [6.3, 2.5, 4.9, 1.5],\n",
       "        [6.1, 2.8, 4.7, 1.2],\n",
       "        [6.4, 2.9, 4.3, 1.3],\n",
       "        [6.6, 3. , 4.4, 1.4],\n",
       "        [6.8, 2.8, 4.8, 1.4],\n",
       "        [6.7, 3. , 5. , 1.7],\n",
       "        [6. , 2.9, 4.5, 1.5],\n",
       "        [5.7, 2.6, 3.5, 1. ],\n",
       "        [5.5, 2.4, 3.8, 1.1],\n",
       "        [5.5, 2.4, 3.7, 1. ],\n",
       "        [5.8, 2.7, 3.9, 1.2],\n",
       "        [6. , 2.7, 5.1, 1.6],\n",
       "        [5.4, 3. , 4.5, 1.5],\n",
       "        [6. , 3.4, 4.5, 1.6],\n",
       "        [6.7, 3.1, 4.7, 1.5],\n",
       "        [6.3, 2.3, 4.4, 1.3],\n",
       "        [5.6, 3. , 4.1, 1.3],\n",
       "        [5.5, 2.5, 4. , 1.3],\n",
       "        [5.5, 2.6, 4.4, 1.2],\n",
       "        [6.1, 3. , 4.6, 1.4],\n",
       "        [5.8, 2.6, 4. , 1.2],\n",
       "        [5. , 2.3, 3.3, 1. ],\n",
       "        [5.6, 2.7, 4.2, 1.3],\n",
       "        [5.7, 3. , 4.2, 1.2],\n",
       "        [5.7, 2.9, 4.2, 1.3],\n",
       "        [6.2, 2.9, 4.3, 1.3],\n",
       "        [5.1, 2.5, 3. , 1.1],\n",
       "        [5.7, 2.8, 4.1, 1.3],\n",
       "        [6.3, 3.3, 6. , 2.5],\n",
       "        [5.8, 2.7, 5.1, 1.9],\n",
       "        [7.1, 3. , 5.9, 2.1],\n",
       "        [6.3, 2.9, 5.6, 1.8],\n",
       "        [6.5, 3. , 5.8, 2.2],\n",
       "        [7.6, 3. , 6.6, 2.1],\n",
       "        [4.9, 2.5, 4.5, 1.7],\n",
       "        [7.3, 2.9, 6.3, 1.8],\n",
       "        [6.7, 2.5, 5.8, 1.8],\n",
       "        [7.2, 3.6, 6.1, 2.5],\n",
       "        [6.5, 3.2, 5.1, 2. ],\n",
       "        [6.4, 2.7, 5.3, 1.9],\n",
       "        [6.8, 3. , 5.5, 2.1],\n",
       "        [5.7, 2.5, 5. , 2. ],\n",
       "        [5.8, 2.8, 5.1, 2.4],\n",
       "        [6.4, 3.2, 5.3, 2.3],\n",
       "        [6.5, 3. , 5.5, 1.8],\n",
       "        [7.7, 3.8, 6.7, 2.2],\n",
       "        [7.7, 2.6, 6.9, 2.3],\n",
       "        [6. , 2.2, 5. , 1.5],\n",
       "        [6.9, 3.2, 5.7, 2.3],\n",
       "        [5.6, 2.8, 4.9, 2. ],\n",
       "        [7.7, 2.8, 6.7, 2. ],\n",
       "        [6.3, 2.7, 4.9, 1.8],\n",
       "        [6.7, 3.3, 5.7, 2.1],\n",
       "        [7.2, 3.2, 6. , 1.8],\n",
       "        [6.2, 2.8, 4.8, 1.8],\n",
       "        [6.1, 3. , 4.9, 1.8],\n",
       "        [6.4, 2.8, 5.6, 2.1],\n",
       "        [7.2, 3. , 5.8, 1.6],\n",
       "        [7.4, 2.8, 6.1, 1.9],\n",
       "        [7.9, 3.8, 6.4, 2. ],\n",
       "        [6.4, 2.8, 5.6, 2.2],\n",
       "        [6.3, 2.8, 5.1, 1.5],\n",
       "        [6.1, 2.6, 5.6, 1.4],\n",
       "        [7.7, 3. , 6.1, 2.3],\n",
       "        [6.3, 3.4, 5.6, 2.4],\n",
       "        [6.4, 3.1, 5.5, 1.8],\n",
       "        [6. , 3. , 4.8, 1.8],\n",
       "        [6.9, 3.1, 5.4, 2.1],\n",
       "        [6.7, 3.1, 5.6, 2.4],\n",
       "        [6.9, 3.1, 5.1, 2.3],\n",
       "        [5.8, 2.7, 5.1, 1.9],\n",
       "        [6.8, 3.2, 5.9, 2.3],\n",
       "        [6.7, 3.3, 5.7, 2.5],\n",
       "        [6.7, 3. , 5.2, 2.3],\n",
       "        [6.3, 2.5, 5. , 1.9],\n",
       "        [6.5, 3. , 5.2, 2. ],\n",
       "        [6.2, 3.4, 5.4, 2.3],\n",
       "        [5.9, 3. , 5.1, 1.8]]),\n",
       " 'target': array([0, 0, 0, 0, 0, 0, 0, 0, 0, 0, 0, 0, 0, 0, 0, 0, 0, 0, 0, 0, 0, 0,\n",
       "        0, 0, 0, 0, 0, 0, 0, 0, 0, 0, 0, 0, 0, 0, 0, 0, 0, 0, 0, 0, 0, 0,\n",
       "        0, 0, 0, 0, 0, 0, 1, 1, 1, 1, 1, 1, 1, 1, 1, 1, 1, 1, 1, 1, 1, 1,\n",
       "        1, 1, 1, 1, 1, 1, 1, 1, 1, 1, 1, 1, 1, 1, 1, 1, 1, 1, 1, 1, 1, 1,\n",
       "        1, 1, 1, 1, 1, 1, 1, 1, 1, 1, 1, 1, 2, 2, 2, 2, 2, 2, 2, 2, 2, 2,\n",
       "        2, 2, 2, 2, 2, 2, 2, 2, 2, 2, 2, 2, 2, 2, 2, 2, 2, 2, 2, 2, 2, 2,\n",
       "        2, 2, 2, 2, 2, 2, 2, 2, 2, 2, 2, 2, 2, 2, 2, 2, 2, 2]),\n",
       " 'frame': None,\n",
       " 'target_names': array(['setosa', 'versicolor', 'virginica'], dtype='<U10'),\n",
       " 'DESCR': '.. _iris_dataset:\\n\\nIris plants dataset\\n--------------------\\n\\n**Data Set Characteristics:**\\n\\n    :Number of Instances: 150 (50 in each of three classes)\\n    :Number of Attributes: 4 numeric, predictive attributes and the class\\n    :Attribute Information:\\n        - sepal length in cm\\n        - sepal width in cm\\n        - petal length in cm\\n        - petal width in cm\\n        - class:\\n                - Iris-Setosa\\n                - Iris-Versicolour\\n                - Iris-Virginica\\n                \\n    :Summary Statistics:\\n\\n    ============== ==== ==== ======= ===== ====================\\n                    Min  Max   Mean    SD   Class Correlation\\n    ============== ==== ==== ======= ===== ====================\\n    sepal length:   4.3  7.9   5.84   0.83    0.7826\\n    sepal width:    2.0  4.4   3.05   0.43   -0.4194\\n    petal length:   1.0  6.9   3.76   1.76    0.9490  (high!)\\n    petal width:    0.1  2.5   1.20   0.76    0.9565  (high!)\\n    ============== ==== ==== ======= ===== ====================\\n\\n    :Missing Attribute Values: None\\n    :Class Distribution: 33.3% for each of 3 classes.\\n    :Creator: R.A. Fisher\\n    :Donor: Michael Marshall (MARSHALL%PLU@io.arc.nasa.gov)\\n    :Date: July, 1988\\n\\nThe famous Iris database, first used by Sir R.A. Fisher. The dataset is taken\\nfrom Fisher\\'s paper. Note that it\\'s the same as in R, but not as in the UCI\\nMachine Learning Repository, which has two wrong data points.\\n\\nThis is perhaps the best known database to be found in the\\npattern recognition literature.  Fisher\\'s paper is a classic in the field and\\nis referenced frequently to this day.  (See Duda & Hart, for example.)  The\\ndata set contains 3 classes of 50 instances each, where each class refers to a\\ntype of iris plant.  One class is linearly separable from the other 2; the\\nlatter are NOT linearly separable from each other.\\n\\n|details-start|\\n**References**\\n|details-split|\\n\\n- Fisher, R.A. \"The use of multiple measurements in taxonomic problems\"\\n  Annual Eugenics, 7, Part II, 179-188 (1936); also in \"Contributions to\\n  Mathematical Statistics\" (John Wiley, NY, 1950).\\n- Duda, R.O., & Hart, P.E. (1973) Pattern Classification and Scene Analysis.\\n  (Q327.D83) John Wiley & Sons.  ISBN 0-471-22361-1.  See page 218.\\n- Dasarathy, B.V. (1980) \"Nosing Around the Neighborhood: A New System\\n  Structure and Classification Rule for Recognition in Partially Exposed\\n  Environments\".  IEEE Transactions on Pattern Analysis and Machine\\n  Intelligence, Vol. PAMI-2, No. 1, 67-71.\\n- Gates, G.W. (1972) \"The Reduced Nearest Neighbor Rule\".  IEEE Transactions\\n  on Information Theory, May 1972, 431-433.\\n- See also: 1988 MLC Proceedings, 54-64.  Cheeseman et al\"s AUTOCLASS II\\n  conceptual clustering system finds 3 classes in the data.\\n- Many, many more ...\\n\\n|details-end|',\n",
       " 'feature_names': ['sepal length (cm)',\n",
       "  'sepal width (cm)',\n",
       "  'petal length (cm)',\n",
       "  'petal width (cm)'],\n",
       " 'filename': 'iris.csv',\n",
       " 'data_module': 'sklearn.datasets.data'}"
      ]
     },
     "execution_count": 7,
     "metadata": {},
     "output_type": "execute_result"
    }
   ],
   "source": [
    "import sklearn\n",
    "from sklearn import datasets\n",
    "\n",
    "iris = datasets.load_iris()\n",
    "iris"
   ]
  },
  {
   "cell_type": "code",
   "execution_count": 8,
   "id": "c6561df3-e6a9-47de-9a1a-9a821bc0b8de",
   "metadata": {},
   "outputs": [
    {
     "data": {
      "text/plain": [
       "['sepal length (cm)',\n",
       " 'sepal width (cm)',\n",
       " 'petal length (cm)',\n",
       " 'petal width (cm)']"
      ]
     },
     "execution_count": 8,
     "metadata": {},
     "output_type": "execute_result"
    }
   ],
   "source": [
    "iris.feature_names"
   ]
  },
  {
   "cell_type": "code",
   "execution_count": 9,
   "id": "febe567f-b323-4ca5-805b-16360398e2ea",
   "metadata": {},
   "outputs": [
    {
     "data": {
      "text/plain": [
       "array(['setosa', 'versicolor', 'virginica'], dtype='<U10')"
      ]
     },
     "execution_count": 9,
     "metadata": {},
     "output_type": "execute_result"
    }
   ],
   "source": [
    "iris.target_names"
   ]
  },
  {
   "cell_type": "markdown",
   "id": "9c0a4e86-eef1-447e-8138-7ac54350aa45",
   "metadata": {},
   "source": [
    "# Veri Seti Hazırlama"
   ]
  },
  {
   "cell_type": "code",
   "execution_count": 15,
   "id": "adf288b2-5a56-4462-a859-d9406a70f850",
   "metadata": {},
   "outputs": [
    {
     "data": {
      "text/plain": [
       "array([[5.1, 3.5, 1.4, 0.2],\n",
       "       [4.9, 3. , 1.4, 0.2],\n",
       "       [4.7, 3.2, 1.3, 0.2],\n",
       "       [4.6, 3.1, 1.5, 0.2],\n",
       "       [5. , 3.6, 1.4, 0.2],\n",
       "       [5.4, 3.9, 1.7, 0.4],\n",
       "       [4.6, 3.4, 1.4, 0.3],\n",
       "       [5. , 3.4, 1.5, 0.2],\n",
       "       [4.4, 2.9, 1.4, 0.2],\n",
       "       [4.9, 3.1, 1.5, 0.1]])"
      ]
     },
     "execution_count": 15,
     "metadata": {},
     "output_type": "execute_result"
    }
   ],
   "source": [
    "tablo = iris.data\n",
    "tablo[:10]"
   ]
  },
  {
   "cell_type": "code",
   "execution_count": 12,
   "id": "b6cae976-b605-468c-95a7-1fb22ccbdc16",
   "metadata": {},
   "outputs": [
    {
     "data": {
      "text/plain": [
       "array([0, 0, 0, 0, 0, 0, 0, 0, 0, 0, 0, 0, 0, 0, 0, 0, 0, 0, 0, 0, 0, 0,\n",
       "       0, 0, 0, 0, 0, 0, 0, 0, 0, 0, 0, 0, 0, 0, 0, 0, 0, 0, 0, 0, 0, 0,\n",
       "       0, 0, 0, 0, 0, 0, 1, 1, 1, 1, 1, 1, 1, 1, 1, 1, 1, 1, 1, 1, 1, 1,\n",
       "       1, 1, 1, 1, 1, 1, 1, 1, 1, 1, 1, 1, 1, 1, 1, 1, 1, 1, 1, 1, 1, 1,\n",
       "       1, 1, 1, 1, 1, 1, 1, 1, 1, 1, 1, 1, 2, 2, 2, 2, 2, 2, 2, 2, 2, 2,\n",
       "       2, 2, 2, 2, 2, 2, 2, 2, 2, 2, 2, 2, 2, 2, 2, 2, 2, 2, 2, 2, 2, 2,\n",
       "       2, 2, 2, 2, 2, 2, 2, 2, 2, 2, 2, 2, 2, 2, 2, 2, 2, 2])"
      ]
     },
     "execution_count": 12,
     "metadata": {},
     "output_type": "execute_result"
    }
   ],
   "source": [
    "sonuc = iris.target\n",
    "sonuc"
   ]
  },
  {
   "cell_type": "code",
   "execution_count": 14,
   "id": "3e38bddd-1dcb-4411-8079-75295bd5b48f",
   "metadata": {},
   "outputs": [
    {
     "data": {
      "text/plain": [
       "((150, 4), (150,))"
      ]
     },
     "execution_count": 14,
     "metadata": {},
     "output_type": "execute_result"
    }
   ],
   "source": [
    "tablo.shape,sonuc.shape"
   ]
  },
  {
   "cell_type": "markdown",
   "id": "19d069ba-ca99-4145-9d18-fd19858a31e0",
   "metadata": {},
   "source": [
    "Eğitim ve test veri setletlerini ayırırken minumum %75 eğitim %25 test veri olacak şekilde ayrılır.Genellikle bu işlemde verinin %80'i eğitim için \n",
    "%20 ise test için ayrılır."
   ]
  },
  {
   "cell_type": "code",
   "execution_count": 19,
   "id": "d83b72a3-60cb-4011-a240-bdde9863662a",
   "metadata": {},
   "outputs": [
    {
     "data": {
      "text/plain": [
       "(array([[6.4, 3.1, 5.5, 1.8],\n",
       "        [5.4, 3. , 4.5, 1.5],\n",
       "        [5.2, 3.5, 1.5, 0.2],\n",
       "        [6.1, 3. , 4.9, 1.8],\n",
       "        [6.4, 2.8, 5.6, 2.2],\n",
       "        [5.2, 2.7, 3.9, 1.4],\n",
       "        [5.7, 3.8, 1.7, 0.3],\n",
       "        [6. , 2.7, 5.1, 1.6],\n",
       "        [5.9, 3. , 4.2, 1.5],\n",
       "        [5.8, 2.6, 4. , 1.2]]),\n",
       " array([2, 1, 0, 2, 2, 1, 0, 1, 1, 1]))"
      ]
     },
     "execution_count": 19,
     "metadata": {},
     "output_type": "execute_result"
    }
   ],
   "source": [
    "from sklearn.model_selection import train_test_split\n",
    "\n",
    "egitim_tablosu,test_tablosu,egitim_sonuc_tablosu, test_sonuc_tablosu = train_test_split(tablo,sonuc,test_size=0.20,random_state=0)\n",
    "egitim_tablosu[:10],egitim_sonuc_tablosu[:10]"
   ]
  },
  {
   "cell_type": "markdown",
   "id": "a64bfe9e-8e70-41d4-88a0-bae90253980c",
   "metadata": {},
   "source": [
    "![karar agacalri](../assets/karar_agaclari.png)"
   ]
  },
  {
   "cell_type": "code",
   "execution_count": 24,
   "id": "de8fb38f-9a72-4567-b8e6-f996f0cc8cb3",
   "metadata": {},
   "outputs": [
    {
     "data": {
      "text/html": [
       "<style>#sk-container-id-2 {color: black;}#sk-container-id-2 pre{padding: 0;}#sk-container-id-2 div.sk-toggleable {background-color: white;}#sk-container-id-2 label.sk-toggleable__label {cursor: pointer;display: block;width: 100%;margin-bottom: 0;padding: 0.3em;box-sizing: border-box;text-align: center;}#sk-container-id-2 label.sk-toggleable__label-arrow:before {content: \"▸\";float: left;margin-right: 0.25em;color: #696969;}#sk-container-id-2 label.sk-toggleable__label-arrow:hover:before {color: black;}#sk-container-id-2 div.sk-estimator:hover label.sk-toggleable__label-arrow:before {color: black;}#sk-container-id-2 div.sk-toggleable__content {max-height: 0;max-width: 0;overflow: hidden;text-align: left;background-color: #f0f8ff;}#sk-container-id-2 div.sk-toggleable__content pre {margin: 0.2em;color: black;border-radius: 0.25em;background-color: #f0f8ff;}#sk-container-id-2 input.sk-toggleable__control:checked~div.sk-toggleable__content {max-height: 200px;max-width: 100%;overflow: auto;}#sk-container-id-2 input.sk-toggleable__control:checked~label.sk-toggleable__label-arrow:before {content: \"▾\";}#sk-container-id-2 div.sk-estimator input.sk-toggleable__control:checked~label.sk-toggleable__label {background-color: #d4ebff;}#sk-container-id-2 div.sk-label input.sk-toggleable__control:checked~label.sk-toggleable__label {background-color: #d4ebff;}#sk-container-id-2 input.sk-hidden--visually {border: 0;clip: rect(1px 1px 1px 1px);clip: rect(1px, 1px, 1px, 1px);height: 1px;margin: -1px;overflow: hidden;padding: 0;position: absolute;width: 1px;}#sk-container-id-2 div.sk-estimator {font-family: monospace;background-color: #f0f8ff;border: 1px dotted black;border-radius: 0.25em;box-sizing: border-box;margin-bottom: 0.5em;}#sk-container-id-2 div.sk-estimator:hover {background-color: #d4ebff;}#sk-container-id-2 div.sk-parallel-item::after {content: \"\";width: 100%;border-bottom: 1px solid gray;flex-grow: 1;}#sk-container-id-2 div.sk-label:hover label.sk-toggleable__label {background-color: #d4ebff;}#sk-container-id-2 div.sk-serial::before {content: \"\";position: absolute;border-left: 1px solid gray;box-sizing: border-box;top: 0;bottom: 0;left: 50%;z-index: 0;}#sk-container-id-2 div.sk-serial {display: flex;flex-direction: column;align-items: center;background-color: white;padding-right: 0.2em;padding-left: 0.2em;position: relative;}#sk-container-id-2 div.sk-item {position: relative;z-index: 1;}#sk-container-id-2 div.sk-parallel {display: flex;align-items: stretch;justify-content: center;background-color: white;position: relative;}#sk-container-id-2 div.sk-item::before, #sk-container-id-2 div.sk-parallel-item::before {content: \"\";position: absolute;border-left: 1px solid gray;box-sizing: border-box;top: 0;bottom: 0;left: 50%;z-index: -1;}#sk-container-id-2 div.sk-parallel-item {display: flex;flex-direction: column;z-index: 1;position: relative;background-color: white;}#sk-container-id-2 div.sk-parallel-item:first-child::after {align-self: flex-end;width: 50%;}#sk-container-id-2 div.sk-parallel-item:last-child::after {align-self: flex-start;width: 50%;}#sk-container-id-2 div.sk-parallel-item:only-child::after {width: 0;}#sk-container-id-2 div.sk-dashed-wrapped {border: 1px dashed gray;margin: 0 0.4em 0.5em 0.4em;box-sizing: border-box;padding-bottom: 0.4em;background-color: white;}#sk-container-id-2 div.sk-label label {font-family: monospace;font-weight: bold;display: inline-block;line-height: 1.2em;}#sk-container-id-2 div.sk-label-container {text-align: center;}#sk-container-id-2 div.sk-container {/* jupyter's `normalize.less` sets `[hidden] { display: none; }` but bootstrap.min.css set `[hidden] { display: none !important; }` so we also need the `!important` here to be able to override the default hidden behavior on the sphinx rendered scikit-learn.org. See: https://github.com/scikit-learn/scikit-learn/issues/21755 */display: inline-block !important;position: relative;}#sk-container-id-2 div.sk-text-repr-fallback {display: none;}</style><div id=\"sk-container-id-2\" class=\"sk-top-container\"><div class=\"sk-text-repr-fallback\"><pre>DecisionTreeClassifier()</pre><b>In a Jupyter environment, please rerun this cell to show the HTML representation or trust the notebook. <br />On GitHub, the HTML representation is unable to render, please try loading this page with nbviewer.org.</b></div><div class=\"sk-container\" hidden><div class=\"sk-item\"><div class=\"sk-estimator sk-toggleable\"><input class=\"sk-toggleable__control sk-hidden--visually\" id=\"sk-estimator-id-2\" type=\"checkbox\" checked><label for=\"sk-estimator-id-2\" class=\"sk-toggleable__label sk-toggleable__label-arrow\">DecisionTreeClassifier</label><div class=\"sk-toggleable__content\"><pre>DecisionTreeClassifier()</pre></div></div></div></div></div>"
      ],
      "text/plain": [
       "DecisionTreeClassifier()"
      ]
     },
     "execution_count": 24,
     "metadata": {},
     "output_type": "execute_result"
    }
   ],
   "source": [
    "from sklearn.tree import DecisionTreeClassifier as karar_agacı\n",
    "model = karar_agacı()\n",
    "model.fit(egitim_tablosu, egitim_sonuc_tablosu)"
   ]
  },
  {
   "cell_type": "code",
   "execution_count": 26,
   "id": "0ad64068-17c0-43d4-8f54-98f303f42875",
   "metadata": {},
   "outputs": [
    {
     "data": {
      "text/plain": [
       "array([[5.8, 2.8, 5.1, 2.4],\n",
       "       [6. , 2.2, 4. , 1. ],\n",
       "       [5.5, 4.2, 1.4, 0.2],\n",
       "       [7.3, 2.9, 6.3, 1.8],\n",
       "       [5. , 3.4, 1.5, 0.2],\n",
       "       [6.3, 3.3, 6. , 2.5],\n",
       "       [5. , 3.5, 1.3, 0.3],\n",
       "       [6.7, 3.1, 4.7, 1.5],\n",
       "       [6.8, 2.8, 4.8, 1.4],\n",
       "       [6.1, 2.8, 4. , 1.3]])"
      ]
     },
     "execution_count": 26,
     "metadata": {},
     "output_type": "execute_result"
    }
   ],
   "source": [
    "test_tablosu[:10]"
   ]
  },
  {
   "cell_type": "code",
   "execution_count": 27,
   "id": "70eeb211-8bfc-455f-b970-f67eb8dc4843",
   "metadata": {},
   "outputs": [
    {
     "data": {
      "text/plain": [
       "array([2, 1, 0, 2, 0, 2, 0, 1, 1, 1, 2, 1, 1, 1, 1, 0, 1, 1, 0, 0, 2, 1,\n",
       "       0, 0, 2, 0, 0, 1, 1, 0])"
      ]
     },
     "execution_count": 27,
     "metadata": {},
     "output_type": "execute_result"
    }
   ],
   "source": [
    "model.predict(test_tablosu)"
   ]
  },
  {
   "cell_type": "code",
   "execution_count": 28,
   "id": "7e399207-8955-43b9-a073-cf385aaa2960",
   "metadata": {},
   "outputs": [
    {
     "data": {
      "text/plain": [
       "array([2, 1, 0, 2, 0, 2, 0, 1, 1, 1, 2, 1, 1, 1, 1, 0, 1, 1, 0, 0, 2, 1,\n",
       "       0, 0, 2, 0, 0, 1, 1, 0])"
      ]
     },
     "execution_count": 28,
     "metadata": {},
     "output_type": "execute_result"
    }
   ],
   "source": [
    "test_sonuc_tablosu"
   ]
  },
  {
   "cell_type": "code",
   "execution_count": 31,
   "id": "9edb5702-2287-4658-a53a-d3ece5b61659",
   "metadata": {},
   "outputs": [
    {
     "data": {
      "text/plain": [
       "array([[11,  0,  0],\n",
       "       [ 0, 13,  0],\n",
       "       [ 0,  0,  6]])"
      ]
     },
     "execution_count": 31,
     "metadata": {},
     "output_type": "execute_result"
    }
   ],
   "source": [
    "from sklearn.metrics import confusion_matrix\n",
    "tahmin_tablosu = model.predict(test_tablosu)\n",
    "hata_matrisi = confusion_matrix(test_sonuc_tablosu,tahmin_tablosu)\n",
    "hata_matrisi"
   ]
  },
  {
   "cell_type": "code",
   "execution_count": 33,
   "id": "4c22daea-0a56-4ea7-9d9b-71fe00f8745f",
   "metadata": {},
   "outputs": [
    {
     "data": {
      "text/plain": [
       "<Axes: >"
      ]
     },
     "execution_count": 33,
     "metadata": {},
     "output_type": "execute_result"
    },
    {
     "data": {
      "image/png": "[encoded data removed]",
      "text/plain": [
       "<Figure size 1000x600 with 2 Axes>"
      ]
     },
     "metadata": {},
     "output_type": "display_data"
    }
   ],
   "source": [
    "import seaborn as sns\n",
    "import pandas as pd\n",
    "import matplotlib.pyplot as plt\n",
    "index = ['setosa','versicolor','virginica']\n",
    "columns = ['setosa','versicolor','virginica']\n",
    "hata_goster = pd.DataFrame(hata_matrisi,columns,index)\n",
    "plt.figure(figsize=(10,6))\n",
    "sns.heatmap(hata_goster, annot=True)"
   ]
  },
  {
   "cell_type": "markdown",
   "id": "23b99ae5-09f4-4f30-8cd9-a7ef5c1d14e4",
   "metadata": {},
   "source": [
    "# KNN Algoritması\n",
    "![knn](../assets/knn.png)"
   ]
  },
  {
   "cell_type": "code",
   "execution_count": 36,
   "id": "3f441c74-7933-4be3-93f8-db7a0ca2af4c",
   "metadata": {},
   "outputs": [
    {
     "name": "stdout",
     "output_type": "stream",
     "text": [
      "Eğitim veri seti boyutu= 120\n",
      "Test veri seti boyutu= 30\n"
     ]
    }
   ],
   "source": [
    "print(\"Eğitim veri seti boyutu=\",len(egitim_tablosu))\n",
    "print(\"Test veri seti boyutu=\",len(test_tablosu))\n",
    "\n",
    "from sklearn.neighbors import KNeighborsClassifier\n",
    "\n",
    "model = KNeighborsClassifier ()\n",
    "\n",
    "model.fit()"
   ]
  }
 ],
 "metadata": {
  "kernelspec": {
   "display_name": "Python 3 (ipykernel)",
   "language": "python",
   "name": "python3"
  },
  "language_info": {
   "codemirror_mode": {
    "name": "ipython",
    "version": 3
   },
   "file_extension": ".py",
   "mimetype": "text/x-python",
   "name": "python",
   "nbconvert_exporter": "python",
   "pygments_lexer": "ipython3",
   "version": "3.11.6"
  }
 },
 "nbformat": 4,
 "nbformat_minor": 5
}
